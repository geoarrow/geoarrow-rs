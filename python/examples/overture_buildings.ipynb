{
 "cells": [
  {
   "cell_type": "code",
   "execution_count": 1,
   "id": "6a7a99a3",
   "metadata": {},
   "outputs": [],
   "source": [
    "# /// script\n",
    "# requires-python = \">=3.9\"\n",
    "# dependencies = [\n",
    "#     \"geoarrow-rust-io>=0.4.0b2\",\n",
    "#     \"lonboard\",\n",
    "#     \"requests\",\n",
    "# ]\n",
    "# ///"
   ]
  },
  {
   "cell_type": "markdown",
   "id": "1e520c8f-7039-4f29-886f-c0ece88a03d3",
   "metadata": {},
   "source": [
    "## Reading spatially-partitioned GeoParquet\n",
    "\n",
    "This notebook is an example of reading spatially-partitioned GeoParquet directly from the cloud, with no server in between. This will load a spatial filter from Overture's buildings dataset on the fly, even though the dataset has over 2 billion rows.\n",
    "\n",
    "This notebook uses [`juv`](https://github.com/manzt/juv) for dependency management. First [install `uv`](https://docs.astral.sh/uv/) then launch this notebook with:\n",
    "\n",
    "```\n",
    "uvx juv run overture_buildings.ipynb\n",
    "```"
   ]
  },
  {
   "cell_type": "markdown",
   "id": "f3fbf8ae-fbe1-4818-b808-b797c1f1c2b4",
   "metadata": {},
   "source": [
    "### Imports"
   ]
  },
  {
   "cell_type": "code",
   "execution_count": 2,
   "id": "ae7be0e6",
   "metadata": {},
   "outputs": [],
   "source": [
    "import lonboard\n",
    "import requests\n",
    "\n",
    "from IPython.display import JSON\n",
    "\n",
    "from geoarrow.rust.io import ParquetDataset\n",
    "from geoarrow.rust.io.store import S3Store"
   ]
  },
  {
   "cell_type": "markdown",
   "id": "8fa909b1-dd3e-4ad8-accf-ab4116852aa9",
   "metadata": {},
   "source": [
    "Overture publishes a JSON manifest with the Parquet files in each release. We'll fetch this and inspect it:"
   ]
  },
  {
   "cell_type": "code",
   "execution_count": 14,
   "id": "00541ac9-7000-457c-a3da-dba757b783cf",
   "metadata": {},
   "outputs": [],
   "source": [
    "manifest_url = \"https://raw.githubusercontent.com/OvertureMaps/io-site/refs/heads/manifest_driven_downloads/site/src/09-18-manifest.json\"\n",
    "manifest = requests.get(manifest_url).json()"
   ]
  },
  {
   "cell_type": "code",
   "execution_count": 16,
   "id": "fc8acba3-e40d-49ba-a0d3-5a0d85106a83",
   "metadata": {},
   "outputs": [
    {
     "data": {
      "text/plain": [
       "\u001b[0;31mInit signature:\u001b[0m\n",
       "\u001b[0mJSON\u001b[0m\u001b[0;34m(\u001b[0m\u001b[0;34m\u001b[0m\n",
       "\u001b[0;34m\u001b[0m    \u001b[0mdata\u001b[0m\u001b[0;34m=\u001b[0m\u001b[0;32mNone\u001b[0m\u001b[0;34m,\u001b[0m\u001b[0;34m\u001b[0m\n",
       "\u001b[0;34m\u001b[0m    \u001b[0murl\u001b[0m\u001b[0;34m=\u001b[0m\u001b[0;32mNone\u001b[0m\u001b[0;34m,\u001b[0m\u001b[0;34m\u001b[0m\n",
       "\u001b[0;34m\u001b[0m    \u001b[0mfilename\u001b[0m\u001b[0;34m=\u001b[0m\u001b[0;32mNone\u001b[0m\u001b[0;34m,\u001b[0m\u001b[0;34m\u001b[0m\n",
       "\u001b[0;34m\u001b[0m    \u001b[0mexpanded\u001b[0m\u001b[0;34m=\u001b[0m\u001b[0;32mFalse\u001b[0m\u001b[0;34m,\u001b[0m\u001b[0;34m\u001b[0m\n",
       "\u001b[0;34m\u001b[0m    \u001b[0mmetadata\u001b[0m\u001b[0;34m=\u001b[0m\u001b[0;32mNone\u001b[0m\u001b[0;34m,\u001b[0m\u001b[0;34m\u001b[0m\n",
       "\u001b[0;34m\u001b[0m    \u001b[0mroot\u001b[0m\u001b[0;34m=\u001b[0m\u001b[0;34m'root'\u001b[0m\u001b[0;34m,\u001b[0m\u001b[0;34m\u001b[0m\n",
       "\u001b[0;34m\u001b[0m    \u001b[0;34m**\u001b[0m\u001b[0mkwargs\u001b[0m\u001b[0;34m,\u001b[0m\u001b[0;34m\u001b[0m\n",
       "\u001b[0;34m\u001b[0m\u001b[0;34m)\u001b[0m\u001b[0;34m\u001b[0m\u001b[0;34m\u001b[0m\u001b[0m\n",
       "\u001b[0;31mDocstring:\u001b[0m     \n",
       "JSON expects a JSON-able dict or list\n",
       "\n",
       "not an already-serialized JSON string.\n",
       "\n",
       "Scalar types (None, number, string) are not allowed, only dict or list containers.\n",
       "\u001b[0;31mInit docstring:\u001b[0m\n",
       "Create a JSON display object given raw data.\n",
       "\n",
       "Parameters\n",
       "----------\n",
       "data : dict or list\n",
       "    JSON data to display. Not an already-serialized JSON string.\n",
       "    Scalar types (None, number, string) are not allowed, only dict\n",
       "    or list containers.\n",
       "url : unicode\n",
       "    A URL to download the data from.\n",
       "filename : unicode\n",
       "    Path to a local file to load the data from.\n",
       "expanded : boolean\n",
       "    Metadata to control whether a JSON display component is expanded.\n",
       "metadata : dict\n",
       "    Specify extra metadata to attach to the json display object.\n",
       "root : str\n",
       "    The name of the root element of the JSON tree\n",
       "\u001b[0;31mFile:\u001b[0m           ~/Library/Caches/uv/archive-v0/5cqfHDkg-hB_shnDMgoqh/lib/python3.11/site-packages/IPython/core/display.py\n",
       "\u001b[0;31mType:\u001b[0m           type\n",
       "\u001b[0;31mSubclasses:\u001b[0m     GeoJSON"
      ]
     },
     "metadata": {},
     "output_type": "display_data"
    }
   ],
   "source": [
    "JSON?"
   ]
  },
  {
   "cell_type": "code",
   "execution_count": 18,
   "id": "2898bb31-3fc0-4d68-bea6-db1f9ab059e6",
   "metadata": {},
   "outputs": [
    {
     "data": {
      "application/json": {
       "release_version": "2024-09-18.0",
       "s3_location": "overturemaps-us-west-2/release/2024-09-18.0",
       "schema_tag": "https://github.com/OvertureMaps/schema/releases/tag/v1.1.0",
       "schema_version": "1.1.0",
       "themes": [
        {
         "name": "addresses",
         "relative_path": "/theme=addresses",
         "status": "{alpha/beta/release}",
         "types": [
          {
           "files": [
            {
             "bbox": [
              -176.874527,
              -53.234018,
              -68.163418,
              44.9998940147562
             ],
             "name": "part-00000-ab657a87-ddf4-44f2-a96c-d573fcab4818-c000.zstd.parquet"
            },
            {
             "bbox": [
              -158.595781492443,
              22.500001,
              -90.0000000970664,
              68.2226912
             ],
             "name": "part-00001-ab657a87-ddf4-44f2-a96c-d573fcab4818-c000.zstd.parquet"
            },
            {
             "bbox": [
              -134.9996199,
              0.3384519,
              -51.798214,
              69.4533678
             ],
             "name": "part-00002-ab657a87-ddf4-44f2-a96c-d573fcab4818-c000.zstd.parquet"
            },
            {
             "bbox": [
              -89.99999881,
              33.8439672146105,
              -73.1250003391229,
              44.99999067
             ],
             "name": "part-00003-ab657a87-ddf4-44f2-a96c-d573fcab4818-c000.zstd.parquet"
            },
            {
             "bbox": [
              -89.99993704,
              -46.9090087,
              171.088111,
              63.7640617
             ],
             "name": "part-00004-ab657a87-ddf4-44f2-a96c-d573fcab4818-c000.zstd.parquet"
            },
            {
             "bbox": [
              1e-06,
              -44.9999898,
              178.5452511,
              50.624999
             ],
             "name": "part-00005-ab657a87-ddf4-44f2-a96c-d573fcab4818-c000.zstd.parquet"
            },
            {
             "bbox": [
              1.565355,
              45.000019,
              31.7390667,
              70.0905452
             ],
             "name": "part-00006-ab657a87-ddf4-44f2-a96c-d573fcab4818-c000.zstd.parquet"
            }
           ],
           "name": "address",
           "relative_path": "/type=address"
          }
         ]
        },
        {
         "name": "base",
         "relative_path": "/theme=base",
         "status": "{alpha/beta/release}",
         "types": [
          {
           "files": [
            {
             "bbox": [
              -179.9999994,
              -89.9918427,
              -2.8247289,
              78.7980429
             ],
             "name": "part-00000-c66cef17-b463-40da-a178-e953e602ae10-c000.zstd.parquet"
            },
            {
             "bbox": [
              -90.8993018,
              0.9166931,
              3.2093328,
              83.0923706
             ],
             "name": "part-00001-c66cef17-b463-40da-a178-e953e602ae10-c000.zstd.parquet"
            },
            {
             "bbox": [
              -42.3166656,
              -84.6132627,
              179.9999994,
              82.1554304
             ],
             "name": "part-00002-c66cef17-b463-40da-a178-e953e602ae10-c000.zstd.parquet"
            },
            {
             "bbox": [
              -1.9774289,
              0.1914487,
              90.890649,
              50.9453509
             ],
             "name": "part-00003-c66cef17-b463-40da-a178-e953e602ae10-c000.zstd.parquet"
            },
            {
             "bbox": [
              -1.253426,
              44.6489073,
              22.833591,
              58.3669875
             ],
             "name": "part-00004-c66cef17-b463-40da-a178-e953e602ae10-c000.zstd.parquet"
            },
            {
             "bbox": [
              -1.5188501,
              44.7200365,
              47.1577837,
              67.8414827
             ],
             "name": "part-00005-c66cef17-b463-40da-a178-e953e602ae10-c000.zstd.parquet"
            },
            {
             "bbox": [
              11.5242144,
              -1.0121701,
              179.3691069,
              81.8529814
             ],
             "name": "part-00006-c66cef17-b463-40da-a178-e953e602ae10-c000.zstd.parquet"
            }
           ],
           "name": "infrastructure",
           "relative_path": "/type=infrastructure"
          },
          {
           "files": [
            {
             "bbox": [
              -180,
              -90,
              7.6951511,
              33.4889414
             ],
             "name": "part-00000-a224f39a-d353-4f53-be98-0097e600d928-c000.zstd.parquet"
            },
            {
             "bbox": [
              -180,
              20.894426738,
              -87.715053175,
              71.6055844
             ],
             "name": "part-00001-a224f39a-d353-4f53-be98-0097e600d928-c000.zstd.parquet"
            },
            {
             "bbox": [
              -135.088812,
              -0.470905622,
              -48.55895132,
              81.95912
             ],
             "name": "part-00002-a224f39a-d353-4f53-be98-0097e600d928-c000.zstd.parquet"
            },
            {
             "bbox": [
              -90.0111918,
              22.4337816,
              -73.4131191,
              48.3957309
             ],
             "name": "part-00003-a224f39a-d353-4f53-be98-0097e600d928-c000.zstd.parquet"
            },
            {
             "bbox": [
              -78.8258324,
              0.9154842,
              3.3222508,
              46.0409806
             ],
             "name": "part-00004-a224f39a-d353-4f53-be98-0097e600d928-c000.zstd.parquet"
            },
            {
             "bbox": [
              -96.97025,
              41.81648925,
              0.0792356,
              85.0511393
             ],
             "name": "part-00005-a224f39a-d353-4f53-be98-0097e600d928-c000.zstd.parquet"
            },
            {
             "bbox": [
              -73.0263201,
              -90,
              90.00005,
              83.7014444
             ],
             "name": "part-00006-a224f39a-d353-4f53-be98-0097e600d928-c000.zstd.parquet"
            },
            {
             "bbox": [
              -180,
              -90,
              180,
              1.7513116
             ],
             "name": "part-00007-a224f39a-d353-4f53-be98-0097e600d928-c000.zstd.parquet"
            },
            {
             "bbox": [
              -2.2948612,
              -11.278565,
              179.872477,
              45.206382781
             ],
             "name": "part-00008-a224f39a-d353-4f53-be98-0097e600d928-c000.zstd.parquet"
            },
            {
             "bbox": [
              6.784597846,
              22.329317741,
              45.6277013,
              46.3078713
             ],
             "name": "part-00009-a224f39a-d353-4f53-be98-0097e600d928-c000.zstd.parquet"
            },
            {
             "bbox": [
              -1.226162547,
              0.1807417,
              94.613764062,
              49.2341287
             ],
             "name": "part-00010-a224f39a-d353-4f53-be98-0097e600d928-c000.zstd.parquet"
            },
            {
             "bbox": [
              -0.110742249,
              43.4077305,
              16.6058353,
              50.999173842
             ],
             "name": "part-00011-a224f39a-d353-4f53-be98-0097e600d928-c000.zstd.parquet"
            },
            {
             "bbox": [
              -0.106985325,
              47.5594969,
              11.3064734,
              53.4492648
             ],
             "name": "part-00012-a224f39a-d353-4f53-be98-0097e600d928-c000.zstd.parquet"
            },
            {
             "bbox": [
              -0.0087925,
              48.92833705,
              14.187156913,
              56.3716613
             ],
             "name": "part-00013-a224f39a-d353-4f53-be98-0097e600d928-c000.zstd.parquet"
            },
            {
             "bbox": [
              8.0743935,
              44.606458338,
              17.148100539,
              57.0791614
             ],
             "name": "part-00014-a224f39a-d353-4f53-be98-0097e600d928-c000.zstd.parquet"
            },
            {
             "bbox": [
              11.1701687,
              43.3990629,
              27.1636908,
              53.745900912
             ],
             "name": "part-00015-a224f39a-d353-4f53-be98-0097e600d928-c000.zstd.parquet"
            },
            {
             "bbox": [
              4.4998332,
              50.205056562,
              22.872145459,
              64.2158082
             ],
             "name": "part-00016-a224f39a-d353-4f53-be98-0097e600d928-c000.zstd.parquet"
            },
            {
             "bbox": [
              9.8404764,
              44.4744779,
              33.803408438,
              68.159277616
             ],
             "name": "part-00017-a224f39a-d353-4f53-be98-0097e600d928-c000.zstd.parquet"
            },
            {
             "bbox": [
              21.8285024,
              44.3864121,
              49.718480431,
              63.3033999
             ],
             "name": "part-00018-a224f39a-d353-4f53-be98-0097e600d928-c000.zstd.parquet"
            },
            {
             "bbox": [
              -180,
              40.9158827,
              180,
              80.829003
             ],
             "name": "part-00019-a224f39a-d353-4f53-be98-0097e600d928-c000.zstd.parquet"
            },
            {
             "bbox": [
              44.9063192,
              -4.1779102,
              180,
              81.8590508
             ],
             "name": "part-00020-a224f39a-d353-4f53-be98-0097e600d928-c000.zstd.parquet"
            }
           ],
           "name": "land",
           "relative_path": "/type=land"
          },
          {
           "files": [
            {
             "bbox": [
              -180.0002,
              -80.46366222,
              180.0002,
              71.61233223
             ],
             "name": "part-00000-ac68c0ca-548d-4fd5-8cd5-d8aee01d7a44-c000.zstd.parquet"
            },
            {
             "bbox": [
              -67.5002,
              -39.24111558,
              -50.46283603,
              -14.21271001
             ],
             "name": "part-00001-ac68c0ca-548d-4fd5-8cd5-d8aee01d7a44-c000.zstd.parquet"
            },
            {
             "bbox": [
              -89.74594604,
              -37.22774759,
              -43.68056053,
              1.220346568
             ],
             "name": "part-00002-ac68c0ca-548d-4fd5-8cd5-d8aee01d7a44-c000.zstd.parquet"
            },
            {
             "bbox": [
              -78.92165934,
              -27.21153217,
              -46.79770967,
              0.070503005
             ],
             "name": "part-00003-ac68c0ca-548d-4fd5-8cd5-d8aee01d7a44-c000.zstd.parquet"
            },
            {
             "bbox": [
              -56.71530551,
              -22.91758512,
              -44.94718018,
              -11.13149348
             ],
             "name": "part-00004-ac68c0ca-548d-4fd5-8cd5-d8aee01d7a44-c000.zstd.parquet"
            },
            {
             "bbox": [
              -68.02509494,
              -40.37144892,
              -9.87421775,
              0.079486158
             ],
             "name": "part-00005-ac68c0ca-548d-4fd5-8cd5-d8aee01d7a44-c000.zstd.parquet"
            },
            {
             "bbox": [
              -160.5451127,
              -19.25245876,
              -5.633966667,
              22.80686285
             ],
             "name": "part-00006-ac68c0ca-548d-4fd5-8cd5-d8aee01d7a44-c000.zstd.parquet"
            },
            {
             "bbox": [
              -124.5666156,
              13.68714867,
              -89.17124162,
              45.0002
             ],
             "name": "part-00007-ac68c0ca-548d-4fd5-8cd5-d8aee01d7a44-c000.zstd.parquet"
            },
            {
             "bbox": [
              -123.7502,
              19.62662674,
              -94.90249803,
              45.26474005
             ],
             "name": "part-00008-ac68c0ca-548d-4fd5-8cd5-d8aee01d7a44-c000.zstd.parquet"
            },
            {
             "bbox": [
              -122.0857136,
              25.32194564,
              -89.37785414,
              53.61007484
             ],
             "name": "part-00009-ac68c0ca-548d-4fd5-8cd5-d8aee01d7a44-c000.zstd.parquet"
            },
            {
             "bbox": [
              -179.999946,
              32.25693963,
              -88.24598177,
              67.51644892
             ],
             "name": "part-00010-ac68c0ca-548d-4fd5-8cd5-d8aee01d7a44-c000.zstd.parquet"
            },
            {
             "bbox": [
              -168.0525018,
              54.81364131,
              -134.6170118,
              71.3518208
             ],
             "name": "part-00011-ac68c0ca-548d-4fd5-8cd5-d8aee01d7a44-c000.zstd.parquet"
            },
            {
             "bbox": [
              -179.9999489,
              44.9998,
              -117.7286894,
              71.6052
             ],
             "name": "part-00012-ac68c0ca-548d-4fd5-8cd5-d8aee01d7a44-c000.zstd.parquet"
            },
            {
             "bbox": [
              -141.0581324,
              44.9998,
              -112.4106992,
              67.55194715
             ],
             "name": "part-00013-ac68c0ca-548d-4fd5-8cd5-d8aee01d7a44-c000.zstd.parquet"
            },
            {
             "bbox": [
              -134.8417907,
              56.16988333,
              -112.4998,
              67.63279552
             ],
             "name": "part-00014-ac68c0ca-548d-4fd5-8cd5-d8aee01d7a44-c000.zstd.parquet"
            },
            {
             "bbox": [
              -163.0129389,
              26.86704793,
              -55.75391305,
              68.38736126
             ],
             "name": "part-00015-ac68c0ca-548d-4fd5-8cd5-d8aee01d7a44-c000.zstd.parquet"
            },
            {
             "bbox": [
              -114.6656103,
              35.62562684,
              -81.62539324,
              56.31302461
             ],
             "name": "part-00016-ac68c0ca-548d-4fd5-8cd5-d8aee01d7a44-c000.zstd.parquet"
            },
            {
             "bbox": [
              -112.5635667,
              52.37022374,
              -86.29663761,
              61.93911667
             ],
             "name": "part-00017-ac68c0ca-548d-4fd5-8cd5-d8aee01d7a44-c000.zstd.parquet"
            },
            {
             "bbox": [
              -136.0275477,
              56.07127782,
              -81.23913676,
              74.15456449
             ],
             "name": "part-00018-ac68c0ca-548d-4fd5-8cd5-d8aee01d7a44-c000.zstd.parquet"
            },
            {
             "bbox": [
              -135.0002,
              56.16988333,
              -89.9998,
              69.78195
             ],
             "name": "part-00019-ac68c0ca-548d-4fd5-8cd5-d8aee01d7a44-c000.zstd.parquet"
            },
            {
             "bbox": [
              -132.1877,
              67.4748,
              -101.0379914,
              78.09816858
             ],
             "name": "part-00020-ac68c0ca-548d-4fd5-8cd5-d8aee01d7a44-c000.zstd.parquet"
            },
            {
             "bbox": [
              -114.3781685,
              -29.32257309,
              -40.22204179,
              81.87109278
             ],
             "name": "part-00021-ac68c0ca-548d-4fd5-8cd5-d8aee01d7a44-c000.zstd.parquet"
            },
            {
             "bbox": [
              -90.42907813,
              -0.154275816,
              -49.35749039,
              33.77535133
             ],
             "name": "part-00022-ac68c0ca-548d-4fd5-8cd5-d8aee01d7a44-c000.zstd.parquet"
            },
            {
             "bbox": [
              -90.0002,
              22.46205396,
              -73.46972063,
              45.79475097
             ],
             "name": "part-00023-ac68c0ca-548d-4fd5-8cd5-d8aee01d7a44-c000.zstd.parquet"
            },
            {
             "bbox": [
              -84.6618989,
              4.353803961,
              0.085345909,
              45.0002
             ],
             "name": "part-00024-ac68c0ca-548d-4fd5-8cd5-d8aee01d7a44-c000.zstd.parquet"
            },
            {
             "bbox": [
              -17.53000961,
              4.337300604,
              6.364588843,
              22.59386667
             ],
             "name": "part-00025-ac68c0ca-548d-4fd5-8cd5-d8aee01d7a44-c000.zstd.parquet"
            },
            {
             "bbox": [
              -31.26853225,
              10.45483258,
              0.076362756,
              39.78502172
             ],
             "name": "part-00026-ac68c0ca-548d-4fd5-8cd5-d8aee01d7a44-c000.zstd.parquet"
            },
            {
             "bbox": [
              -90.0002,
              36.66766768,
              1.558597179,
              50.97595
             ],
             "name": "part-00027-ac68c0ca-548d-4fd5-8cd5-d8aee01d7a44-c000.zstd.parquet"
            },
            {
             "bbox": [
              -92.02808423,
              44.83335851,
              -72.24698656,
              57.28420345
             ],
             "name": "part-00028-ac68c0ca-548d-4fd5-8cd5-d8aee01d7a44-c000.zstd.parquet"
            },
            {
             "bbox": [
              -79.26300494,
              44.9998,
              -67.4998,
              56.31401805
             ],
             "name": "part-00029-ac68c0ca-548d-4fd5-8cd5-d8aee01d7a44-c000.zstd.parquet"
            },
            {
             "bbox": [
              -90.75247163,
              53.71769667,
              -61.34143901,
              67.54296399
             ],
             "name": "part-00030-ac68c0ca-548d-4fd5-8cd5-d8aee01d7a44-c000.zstd.parquet"
            },
            {
             "bbox": [
              -78.54945,
              44.9998,
              -54.00219825,
              67.52161667
             ],
             "name": "part-00031-ac68c0ca-548d-4fd5-8cd5-d8aee01d7a44-c000.zstd.parquet"
            },
            {
             "bbox": [
              -90.0002,
              46.59405157,
              -43.72547629,
              73.63354162
             ],
             "name": "part-00032-ac68c0ca-548d-4fd5-8cd5-d8aee01d7a44-c000.zstd.parquet"
            },
            {
             "bbox": [
              -90.81535859,
              44.52792642,
              0.642320484,
              82.85923959
             ],
             "name": "part-00033-ac68c0ca-548d-4fd5-8cd5-d8aee01d7a44-c000.zstd.parquet"
            },
            {
             "bbox": [
              -72.72328388,
              -80.55349374,
              170.9449272,
              82.85923959
             ],
             "name": "part-00034-ac68c0ca-548d-4fd5-8cd5-d8aee01d7a44-c000.zstd.parquet"
            },
            {
             "bbox": [
              6.511490389,
              -27.94815071,
              45.0002,
              0.0002000000004
             ],
             "name": "part-00035-ac68c0ca-548d-4fd5-8cd5-d8aee01d7a44-c000.zstd.parquet"
            },
            {
             "bbox": [
              1.252974877,
              -29.88850683,
              36.18865138,
              9.412977065
             ],
             "name": "part-00036-ac68c0ca-548d-4fd5-8cd5-d8aee01d7a44-c000.zstd.parquet"
            },
            {
             "bbox": [
              22.40829982,
              -19.72856096,
              33.90693546,
              -10.62843203
             ],
             "name": "part-00037-ac68c0ca-548d-4fd5-8cd5-d8aee01d7a44-c000.zstd.parquet"
            },
            {
             "bbox": [
              22.22863676,
              -22.78283782,
              45.09994389,
              -5.6158
             ],
             "name": "part-00038-ac68c0ca-548d-4fd5-8cd5-d8aee01d7a44-c000.zstd.parquet"
            },
            {
             "bbox": [
              22.4998,
              -11.41016633,
              36.67374164,
              0.429824224
             ],
             "name": "part-00039-ac68c0ca-548d-4fd5-8cd5-d8aee01d7a44-c000.zstd.parquet"
            },
            {
             "bbox": [
              32.56824568,
              -25.63049238,
              55.83685133,
              0.331014437
             ],
             "name": "part-00040-ac68c0ca-548d-4fd5-8cd5-d8aee01d7a44-c000.zstd.parquet"
            },
            {
             "bbox": [
              45.01838442,
              -80.07738664,
              171.1025096,
              5.649040919
             ],
             "name": "part-00041-ac68c0ca-548d-4fd5-8cd5-d8aee01d7a44-c000.zstd.parquet"
            },
            {
             "bbox": [
              112.3655924,
              -43.73961558,
              153.6389489,
              1.73238628
             ],
             "name": "part-00042-ac68c0ca-548d-4fd5-8cd5-d8aee01d7a44-c000.zstd.parquet"
            },
            {
             "bbox": [
              -1.40603347,
              -46.69599069,
              179.9999089,
              12.35047294
             ],
             "name": "part-00043-ac68c0ca-548d-4fd5-8cd5-d8aee01d7a44-c000.zstd.parquet"
            },
            {
             "bbox": [
              -17.29723574,
              -2.678541765,
              39.83581633,
              17.92901085
             ],
             "name": "part-00044-ac68c0ca-548d-4fd5-8cd5-d8aee01d7a44-c000.zstd.parquet"
            },
            {
             "bbox": [
              -0.0002000000004,
              -0.100376899,
              36.65578022,
              22.59386667
             ],
             "name": "part-00045-ac68c0ca-548d-4fd5-8cd5-d8aee01d7a44-c000.zstd.parquet"
            },
            {
             "bbox": [
              22.4998,
              -7.538427452,
              50.0137236,
              22.59386667
             ],
             "name": "part-00046-ac68c0ca-548d-4fd5-8cd5-d8aee01d7a44-c000.zstd.parquet"
            },
            {
             "bbox": [
              -1.46891554,
              13.0240094,
              45.84554069,
              45.12100961
             ],
             "name": "part-00047-ac68c0ca-548d-4fd5-8cd5-d8aee01d7a44-c000.zstd.parquet"
            },
            {
             "bbox": [
              5.6248,
              34.68022539,
              22.85765746,
              46.21695426
             ],
             "name": "part-00048-ac68c0ca-548d-4fd5-8cd5-d8aee01d7a44-c000.zstd.parquet"
            },
            {
             "bbox": [
              -17.09062323,
              8.038364469,
              72.19313286,
              45.0002
             ],
             "name": "part-00049-ac68c0ca-548d-4fd5-8cd5-d8aee01d7a44-c000.zstd.parquet"
            },
            {
             "bbox": [
              26.23512293,
              0.1878872945,
              78.7502,
              45.29168951
             ],
             "name": "part-00050-ac68c0ca-548d-4fd5-8cd5-d8aee01d7a44-c000.zstd.parquet"
            },
            {
             "bbox": [
              68.93613333,
              5.909352351,
              81.88595478,
              22.77991339
             ],
             "name": "part-00051-ac68c0ca-548d-4fd5-8cd5-d8aee01d7a44-c000.zstd.parquet"
            },
            {
             "bbox": [
              43.33006279,
              8.62226451,
              95.27981657,
              34.86224906
             ],
             "name": "part-00052-ac68c0ca-548d-4fd5-8cd5-d8aee01d7a44-c000.zstd.parquet"
            },
            {
             "bbox": [
              44.4889086,
              22.47889867,
              67.85426515,
              45.38150684
             ],
             "name": "part-00053-ac68c0ca-548d-4fd5-8cd5-d8aee01d7a44-c000.zstd.parquet"
            },
            {
             "bbox": [
              51.14540576,
              22.41124039,
              78.7502,
              46.36967275
             ],
             "name": "part-00054-ac68c0ca-548d-4fd5-8cd5-d8aee01d7a44-c000.zstd.parquet"
            },
            {
             "bbox": [
              67.4998,
              22.14190954,
              90.14147224,
              35.41022628
             ],
             "name": "part-00055-ac68c0ca-548d-4fd5-8cd5-d8aee01d7a44-c000.zstd.parquet"
            },
            {
             "bbox": [
              -0.408903504,
              27.30722242,
              122.4179404,
              57.99387252
             ],
             "name": "part-00056-ac68c0ca-548d-4fd5-8cd5-d8aee01d7a44-c000.zstd.parquet"
            },
            {
             "bbox": [
              -3.184683528,
              44.57284707,
              11.41310164,
              53.75897467
             ],
             "name": "part-00057-ac68c0ca-548d-4fd5-8cd5-d8aee01d7a44-c000.zstd.parquet"
            },
            {
             "bbox": [
              -4.154878239,
              36.52394213,
              28.09483557,
              57.60759695
             ],
             "name": "part-00058-ac68c0ca-548d-4fd5-8cd5-d8aee01d7a44-c000.zstd.parquet"
            },
            {
             "bbox": [
              4.501383333,
              49.82799149,
              22.84866941,
              65.39453225
             ],
             "name": "part-00059-ac68c0ca-548d-4fd5-8cd5-d8aee01d7a44-c000.zstd.parquet"
            },
            {
             "bbox": [
              4.900139825,
              44.76148839,
              33.77218816,
              71.19012405
             ],
             "name": "part-00060-ac68c0ca-548d-4fd5-8cd5-d8aee01d7a44-c000.zstd.parquet"
            },
            {
             "bbox": [
              21.02491338,
              43.00079533,
              47.13911959,
              56.96080995
             ],
             "name": "part-00061-ac68c0ca-548d-4fd5-8cd5-d8aee01d7a44-c000.zstd.parquet"
            },
            {
             "bbox": [
              21.92321446,
              46.31646667,
              45.10892705,
              64.69886667
             ],
             "name": "part-00062-ac68c0ca-548d-4fd5-8cd5-d8aee01d7a44-c000.zstd.parquet"
            },
            {
             "bbox": [
              10.45890706,
              56.16988333,
              45.0002,
              80.8292
             ],
             "name": "part-00063-ac68c0ca-548d-4fd5-8cd5-d8aee01d7a44-c000.zstd.parquet"
            },
            {
             "bbox": [
              18.62649247,
              44.53690957,
              67.56680915,
              80.66853225
             ],
             "name": "part-00064-ac68c0ca-548d-4fd5-8cd5-d8aee01d7a44-c000.zstd.parquet"
            },
            {
             "bbox": [
              44.94704939,
              56.06229466,
              69.23767558,
              67.52503225
             ],
             "name": "part-00065-ac68c0ca-548d-4fd5-8cd5-d8aee01d7a44-c000.zstd.parquet"
            },
            {
             "bbox": [
              5.924314354,
              34.32306479,
              166.9114773,
              72.03454042
             ],
             "name": "part-00066-ac68c0ca-548d-4fd5-8cd5-d8aee01d7a44-c000.zstd.parquet"
            },
            {
             "bbox": [
              65.06032861,
              56.16988333,
              84.41920388,
              67.52386558
             ],
             "name": "part-00067-ac68c0ca-548d-4fd5-8cd5-d8aee01d7a44-c000.zstd.parquet"
            },
            {
             "bbox": [
              44.9998,
              56.15212619,
              90.01570321,
              75.19661022
             ],
             "name": "part-00068-ac68c0ca-548d-4fd5-8cd5-d8aee01d7a44-c000.zstd.parquet"
            },
            {
             "bbox": [
              45.36025533,
              -0.0002000000004,
              104.1192532,
              81.88905908
             ],
             "name": "part-00069-ac68c0ca-548d-4fd5-8cd5-d8aee01d7a44-c000.zstd.parquet"
            },
            {
             "bbox": [
              70.42325175,
              -0.0002000000004,
              122.0406431,
              35.52700727
             ],
             "name": "part-00070-ac68c0ca-548d-4fd5-8cd5-d8aee01d7a44-c000.zstd.parquet"
            },
            {
             "bbox": [
              89.61127112,
              -4.169740242,
              134.7213656,
              23.91136558
             ],
             "name": "part-00071-ac68c0ca-548d-4fd5-8cd5-d8aee01d7a44-c000.zstd.parquet"
            },
            {
             "bbox": [
              89.55736731,
              22.34852205,
              106.8752,
              34.16156314
             ],
             "name": "part-00072-ac68c0ca-548d-4fd5-8cd5-d8aee01d7a44-c000.zstd.parquet"
            },
            {
             "bbox": [
              101.2498,
              22.41880396,
              112.5002,
              33.77519604
             ],
             "name": "part-00073-ac68c0ca-548d-4fd5-8cd5-d8aee01d7a44-c000.zstd.parquet"
            },
            {
             "bbox": [
              69.62375604,
              22.42937043,
              115.3127,
              49.60360777
             ],
             "name": "part-00074-ac68c0ca-548d-4fd5-8cd5-d8aee01d7a44-c000.zstd.parquet"
            },
            {
             "bbox": [
              112.2757608,
              21.91733561,
              123.7502,
              33.77092628
             ],
             "name": "part-00075-ac68c0ca-548d-4fd5-8cd5-d8aee01d7a44-c000.zstd.parquet"
            },
            {
             "bbox": [
              111.287614,
              24.04538333,
              134.7068886,
              42.66860888
             ],
             "name": "part-00076-ac68c0ca-548d-4fd5-8cd5-d8aee01d7a44-c000.zstd.parquet"
            },
            {
             "bbox": [
              112.4105081,
              0.1178844164,
              173.9457833,
              50.22344532
             ],
             "name": "part-00077-ac68c0ca-548d-4fd5-8cd5-d8aee01d7a44-c000.zstd.parquet"
            },
            {
             "bbox": [
              89.0632939,
              33.45169896,
              148.2534831,
              67.52386558
             ],
             "name": "part-00078-ac68c0ca-548d-4fd5-8cd5-d8aee01d7a44-c000.zstd.parquet"
            },
            {
             "bbox": [
              43.32108453,
              44.91420688,
              179.9999501,
              77.73884247
             ],
             "name": "part-00079-ac68c0ca-548d-4fd5-8cd5-d8aee01d7a44-c000.zstd.parquet"
            },
            {
             "bbox": [
              89.32381023,
              55.29872667,
              135.0033184,
              68.99823475
             ],
             "name": "part-00080-ac68c0ca-548d-4fd5-8cd5-d8aee01d7a44-c000.zstd.parquet"
            },
            {
             "bbox": [
              89.9975418,
              44.99505526,
              157.5002,
              81.28718784
             ],
             "name": "part-00081-ac68c0ca-548d-4fd5-8cd5-d8aee01d7a44-c000.zstd.parquet"
            },
            {
             "bbox": [
              134.6797489,
              56.16988333,
              157.5151185,
              68.69280266
             ],
             "name": "part-00082-ac68c0ca-548d-4fd5-8cd5-d8aee01d7a44-c000.zstd.parquet"
            },
            {
             "bbox": [
              135.4702664,
              51.07664484,
              179.9999501,
              76.22068964
             ],
             "name": "part-00083-ac68c0ca-548d-4fd5-8cd5-d8aee01d7a44-c000.zstd.parquet"
            }
           ],
           "name": "land_cover",
           "relative_path": "/type=land_cover"
          },
          {
           "files": [
            {
             "bbox": [
              -179.9923062,
              -75.6208153,
              -2.8170755,
              45.9521314
             ],
             "name": "part-00000-56a797a8-5bf0-4320-8b0a-f9f66428e24b-c000.zstd.parquet"
            },
            {
             "bbox": [
              -179.5676939,
              -1.0840905,
              -49.8812349,
              76.8451907
             ],
             "name": "part-00001-56a797a8-5bf0-4320-8b0a-f9f66428e24b-c000.zstd.parquet"
            },
            {
             "bbox": [
              -97.8327788,
              0.8833333,
              0.3671003,
              83.1511252
             ],
             "name": "part-00002-56a797a8-5bf0-4320-8b0a-f9f66428e24b-c000.zstd.parquet"
            },
            {
             "bbox": [
              -63.4405855,
              -72.9500178,
              81.8108106,
              83.725317
             ],
             "name": "part-00003-56a797a8-5bf0-4320-8b0a-f9f66428e24b-c000.zstd.parquet"
            },
            {
             "bbox": [
              -180,
              -78.4660361,
              180,
              46.2154813
             ],
             "name": "part-00004-56a797a8-5bf0-4320-8b0a-f9f66428e24b-c000.zstd.parquet"
            },
            {
             "bbox": [
              9.8395281,
              0.2283761,
              90.0100611,
              45.5877
             ],
             "name": "part-00005-56a797a8-5bf0-4320-8b0a-f9f66428e24b-c000.zstd.parquet"
            },
            {
             "bbox": [
              -0.4780771,
              24.6335425,
              90.4544065,
              50.821628
             ],
             "name": "part-00006-56a797a8-5bf0-4320-8b0a-f9f66428e24b-c000.zstd.parquet"
            },
            {
             "bbox": [
              -179.1478506,
              47.7969853,
              179.7729782,
              55.8101111
             ],
             "name": "part-00007-56a797a8-5bf0-4320-8b0a-f9f66428e24b-c000.zstd.parquet"
            },
            {
             "bbox": [
              4.7155634,
              44.9803021,
              17.2039948,
              56.3203544
             ],
             "name": "part-00008-56a797a8-5bf0-4320-8b0a-f9f66428e24b-c000.zstd.parquet"
            },
            {
             "bbox": [
              10.9897124,
              44.940564,
              22.8392845,
              56.3351333
             ],
             "name": "part-00009-56a797a8-5bf0-4320-8b0a-f9f66428e24b-c000.zstd.parquet"
            },
            {
             "bbox": [
              -179.1478506,
              44.761348,
              179.7729782,
              68.8820006
             ],
             "name": "part-00010-56a797a8-5bf0-4320-8b0a-f9f66428e24b-c000.zstd.parquet"
            },
            {
             "bbox": [
              -180,
              -0.1597966,
              180,
              82.5025033
             ],
             "name": "part-00011-56a797a8-5bf0-4320-8b0a-f9f66428e24b-c000.zstd.parquet"
            },
            {
             "bbox": [
              78.5447046,
              0.122892,
              179.3728512,
              80.1016137
             ],
             "name": "part-00012-56a797a8-5bf0-4320-8b0a-f9f66428e24b-c000.zstd.parquet"
            }
           ],
           "name": "land_use",
           "relative_path": "/type=land_use"
          },
          {
           "files": [
            {
             "bbox": [
              -180,
              -86.7766634,
              0.0001,
              1.1585495
             ],
             "name": "part-00000-efc2874f-4a6c-49f9-a908-df13eb0e1c63-c000.zstd.parquet"
            },
            {
             "bbox": [
              -180,
              -22.5001,
              0.0001,
              45.1628061
             ],
             "name": "part-00001-efc2874f-4a6c-49f9-a908-df13eb0e1c63-c000.zstd.parquet"
            },
            {
             "bbox": [
              -180,
              33.6528803,
              -89.5904662,
              90
             ],
             "name": "part-00002-efc2874f-4a6c-49f9-a908-df13eb0e1c63-c000.zstd.parquet"
            },
            {
             "bbox": [
              -135.1734404,
              44.7132951,
              -110.0056163,
              60.9522377
             ],
             "name": "part-00003-efc2874f-4a6c-49f9-a908-df13eb0e1c63-c000.zstd.parquet"
            },
            {
             "bbox": [
              -135.9033001,
              44.42625,
              -89.957102,
              67.9815551
             ],
             "name": "part-00004-efc2874f-4a6c-49f9-a908-df13eb0e1c63-c000.zstd.parquet"
            },
            {
             "bbox": [
              -113.7449699,
              47.7916418,
              -89.5952225,
              68.2627
             ],
             "name": "part-00005-efc2874f-4a6c-49f9-a908-df13eb0e1c63-c000.zstd.parquet"
            },
            {
             "bbox": [
              -135.2716913,
              -0.9998392,
              -44.9999,
              90
             ],
             "name": "part-00006-efc2874f-4a6c-49f9-a908-df13eb0e1c63-c000.zstd.parquet"
            },
            {
             "bbox": [
              -90.3964712,
              33.3967052,
              -67.4999,
              46.2995342
             ],
             "name": "part-00007-efc2874f-4a6c-49f9-a908-df13eb0e1c63-c000.zstd.parquet"
            },
            {
             "bbox": [
              -92.27277,
              -0.0001,
              0.7572466,
              56.5602114
             ],
             "name": "part-00008-efc2874f-4a6c-49f9-a908-df13eb0e1c63-c000.zstd.parquet"
            },
            {
             "bbox": [
              -96.6168699,
              44.9614104,
              -55.7402732,
              68.2329699
             ],
             "name": "part-00009-efc2874f-4a6c-49f9-a908-df13eb0e1c63-c000.zstd.parquet"
            },
            {
             "bbox": [
              -94.045,
              -72.5969247,
              90.0001,
              90
             ],
             "name": "part-00010-efc2874f-4a6c-49f9-a908-df13eb0e1c63-c000.zstd.parquet"
            },
            {
             "bbox": [
              -0.9180457,
              -85.163455,
              180,
              40.8041749
             ],
             "name": "part-00011-efc2874f-4a6c-49f9-a908-df13eb0e1c63-c000.zstd.parquet"
            },
            {
             "bbox": [
              -0.153427,
              -0.0001,
              90.0001,
              45.3564096
             ],
             "name": "part-00012-efc2874f-4a6c-49f9-a908-df13eb0e1c63-c000.zstd.parquet"
            },
            {
             "bbox": [
              -0.5034768,
              5.6378581,
              94.90539,
              50.7517002
             ],
             "name": "part-00013-efc2874f-4a6c-49f9-a908-df13eb0e1c63-c000.zstd.parquet"
            },
            {
             "bbox": [
              -0.0881698,
              44.7697529,
              15.5238476,
              56.2956684
             ],
             "name": "part-00014-efc2874f-4a6c-49f9-a908-df13eb0e1c63-c000.zstd.parquet"
            },
            {
             "bbox": [
              10.750275,
              44.8218234,
              22.8230452,
              56.3216455
             ],
             "name": "part-00015-efc2874f-4a6c-49f9-a908-df13eb0e1c63-c000.zstd.parquet"
            },
            {
             "bbox": [
              -180,
              44.7561741,
              180,
              67.7028891
             ],
             "name": "part-00016-efc2874f-4a6c-49f9-a908-df13eb0e1c63-c000.zstd.parquet"
            },
            {
             "bbox": [
              21.8881845,
              44.7949281,
              45.2036748,
              68.0661178
             ],
             "name": "part-00017-efc2874f-4a6c-49f9-a908-df13eb0e1c63-c000.zstd.parquet"
            },
            {
             "bbox": [
              -180,
              -0.1597966,
              180,
              90
             ],
             "name": "part-00018-efc2874f-4a6c-49f9-a908-df13eb0e1c63-c000.zstd.parquet"
            },
            {
             "bbox": [
              87.906761,
              -0.0001,
              180,
              90
             ],
             "name": "part-00019-efc2874f-4a6c-49f9-a908-df13eb0e1c63-c000.zstd.parquet"
            }
           ],
           "name": "water",
           "relative_path": "/type=water"
          }
         ]
        },
        {
         "name": "buildings",
         "relative_path": "/theme=buildings",
         "status": "{alpha/beta/release}",
         "types": [
          {
           "files": [
            {
             "bbox": [
              -179.9999966,
              -83.6500139,
              -2.8229824,
              -0.00313771110055319
             ],
             "name": "part-00000-d0628531-2fbd-47aa-8608-f61ff708b14c-c000.zstd.parquet"
            },
            {
             "bbox": [
              -71.7105352479205,
              -44.9988201138919,
              -56.6698558,
              -22.4999150019815
             ],
             "name": "part-00001-d0628531-2fbd-47aa-8608-f61ff708b14c-c000.zstd.parquet"
            },
            {
             "bbox": [
              -67.5002494,
              -35.156289095148,
              -53.2598394989895,
              -28.1249925896505
             ],
             "name": "part-00002-d0628531-2fbd-47aa-8608-f61ff708b14c-c000.zstd.parquet"
            },
            {
             "bbox": [
              -67.5000101332237,
              -33.75004667860935,
              -50.6250264732429,
              -22.499931526301935
             ],
             "name": "part-00003-d0628531-2fbd-47aa-8608-f61ff708b14c-c000.zstd.parquet"
            },
            {
             "bbox": [
              -56.2501030103671,
              -30.90099188278488,
              -48.6371581153877,
              -22.499914287012814
             ],
             "name": "part-00004-d0628531-2fbd-47aa-8608-f61ff708b14c-c000.zstd.parquet"
            },
            {
             "bbox": [
              -53.4377787,
              -28.1251085714889,
              -45.2295254227039,
              -22.49974224127
             ],
             "name": "part-00005-d0628531-2fbd-47aa-8608-f61ff708b14c-c000.zstd.parquet"
            },
            {
             "bbox": [
              -47.8126677,
              -23.906371076784,
              -44.9999185655413,
              -22.4982249
             ],
             "name": "part-00006-d0628531-2fbd-47aa-8608-f61ff708b14c-c000.zstd.parquet"
            },
            {
             "bbox": [
              -77.74607413688848,
              -22.7636550898234,
              -44.9999018,
              -11.24977743242276
             ],
             "name": "part-00007-d0628531-2fbd-47aa-8608-f61ff708b14c-c000.zstd.parquet"
            },
            {
             "bbox": [
              -89.6982956609661,
              -14.0626773125685,
              -67.5000889,
              7.65992251661039e-05
             ],
             "name": "part-00008-d0628531-2fbd-47aa-8608-f61ff708b14c-c000.zstd.parquet"
            },
            {
             "bbox": [
              -78.7501535017096,
              -22.500093636860072,
              -56.2499456289424,
              0.0004131
             ],
             "name": "part-00009-d0628531-2fbd-47aa-8608-f61ff708b14c-c000.zstd.parquet"
            },
            {
             "bbox": [
              -61.1719503,
              -22.5021341,
              -44.9998599,
              -11.2498432109301
             ],
             "name": "part-00010-d0628531-2fbd-47aa-8608-f61ff708b14c-c000.zstd.parquet"
            },
            {
             "bbox": [
              -67.5000514126214,
              -21.0940579,
              -44.9994586,
              -8.43786274689128
             ],
             "name": "part-00011-d0628531-2fbd-47aa-8608-f61ff708b14c-c000.zstd.parquet"
            },
            {
             "bbox": [
              -67.4994005324189,
              -23.399396016483152,
              -42.8905459226199,
              0.0001899
             ],
             "name": "part-00012-d0628531-2fbd-47aa-8608-f61ff708b14c-c000.zstd.parquet"
            },
            {
             "bbox": [
              -45.0006945180755,
              -40.3502116,
              -9.879698,
              -17.578054506348394
             ],
             "name": "part-00013-d0628531-2fbd-47aa-8608-f61ff708b14c-c000.zstd.parquet"
            },
            {
             "bbox": [
              -45.0002053512589,
              -20.5098272687063,
              -29.3092298,
              -5.624952
             ],
             "name": "part-00014-d0628531-2fbd-47aa-8608-f61ff708b14c-c000.zstd.parquet"
            },
            {
             "bbox": [
              -45.0000706064864,
              -11.2500964074611,
              -34.7932399171402,
              -4.21861987515004
             ],
             "name": "part-00015-d0628531-2fbd-47aa-8608-f61ff708b14c-c000.zstd.parquet"
            },
            {
             "bbox": [
              -178.2941719,
              -16.0224336012171,
              -5.643708185057294,
              28.3938538
             ],
             "name": "part-00016-d0628531-2fbd-47aa-8608-f61ff708b14c-c000.zstd.parquet"
            },
            {
             "bbox": [
              -104.062620928092,
              13.6875825,
              -89.9999304,
              22.5001209
             ],
             "name": "part-00017-d0628531-2fbd-47aa-8608-f61ff708b14c-c000.zstd.parquet"
            },
            {
             "bbox": [
              -101.2500921603,
              14.0624080733544,
              -89.9997972,
              19.68795798357985
             ],
             "name": "part-00018-d0628531-2fbd-47aa-8608-f61ff708b14c-c000.zstd.parquet"
            },
            {
             "bbox": [
              -99.8438148,
              16.8748708157048,
              -95.6249310442577,
              19.6878891
             ],
             "name": "part-00019-d0628531-2fbd-47aa-8608-f61ff708b14c-c000.zstd.parquet"
            },
            {
             "bbox": [
              -101.250933816729,
              18.2811218062828,
              -95.6249646612788,
              22.500089252982818
             ],
             "name": "part-00020-d0628531-2fbd-47aa-8608-f61ff708b14c-c000.zstd.parquet"
            },
            {
             "bbox": [
              -124.5637061,
              16.874765,
              -89.9998593907773,
              45.00010669133673
             ],
             "name": "part-00021-d0628531-2fbd-47aa-8608-f61ff708b14c-c000.zstd.parquet"
            },
            {
             "bbox": [
              -123.75007482620431,
              33.749539800773796,
              -112.4998152,
              39.37510355893622
             ],
             "name": "part-00022-d0628531-2fbd-47aa-8608-f61ff708b14c-c000.zstd.parquet"
            },
            {
             "bbox": [
              -123.75017357671805,
              22.4999225425195,
              -101.249924463323,
              45.000344
             ],
             "name": "part-00023-d0628531-2fbd-47aa-8608-f61ff708b14c-c000.zstd.parquet"
            },
            {
             "bbox": [
              -112.5001669,
              22.499890523937893,
              -96.8010069,
              33.750172
             ],
             "name": "part-00024-d0628531-2fbd-47aa-8608-f61ff708b14c-c000.zstd.parquet"
            },
            {
             "bbox": [
              -101.25013705775807,
              28.1252853,
              -89.9994973,
              33.75012021138092
             ],
             "name": "part-00025-d0628531-2fbd-47aa-8608-f61ff708b14c-c000.zstd.parquet"
            },
            {
             "bbox": [
              -112.5001501,
              30.937241492673174,
              -89.99986655008959,
              45.0000278
             ],
             "name": "part-00026-d0628531-2fbd-47aa-8608-f61ff708b14c-c000.zstd.parquet"
            },
            {
             "bbox": [
              -101.25053625124401,
              33.7498441,
              -89.997307,
              45.0005666
             ],
             "name": "part-00027-d0628531-2fbd-47aa-8608-f61ff708b14c-c000.zstd.parquet"
            },
            {
             "bbox": [
              -179.7989685,
              42.187389875537825,
              -89.99984177196016,
              71.563826
             ],
             "name": "part-00028-d0628531-2fbd-47aa-8608-f61ff708b14c-c000.zstd.parquet"
            },
            {
             "bbox": [
              -134.9960196648368,
              -0.000381,
              -73.1249933175872,
              78.788364
             ],
             "name": "part-00029-d0628531-2fbd-47aa-8608-f61ff708b14c-c000.zstd.parquet"
            },
            {
             "bbox": [
              -78.74826713600145,
              0.00062694436934751,
              -67.50039612223856,
              11.2501199
             ],
             "name": "part-00030-d0628531-2fbd-47aa-8608-f61ff708b14c-c000.zstd.parquet"
            },
            {
             "bbox": [
              -90.0000934,
              5.6249203,
              -67.4993483,
              14.0628074
             ],
             "name": "part-00031-d0628531-2fbd-47aa-8608-f61ff708b14c-c000.zstd.parquet"
            },
            {
             "bbox": [
              -90.0001375161422,
              11.249755,
              -67.66535946204434,
              22.500279497685213
             ],
             "name": "part-00032-d0628531-2fbd-47aa-8608-f61ff708b14c-c000.zstd.parquet"
            },
            {
             "bbox": [
              -78.7502967,
              -3.8481845685166e-05,
              -56.2503287,
              22.5002699341958
             ],
             "name": "part-00033-d0628531-2fbd-47aa-8608-f61ff708b14c-c000.zstd.parquet"
            },
            {
             "bbox": [
              -84.1984629492533,
              -8.56040990953937e-05,
              -49.4096178173854,
              27.422004
             ],
             "name": "part-00034-d0628531-2fbd-47aa-8608-f61ff708b14c-c000.zstd.parquet"
            },
            {
             "bbox": [
              -90.0011685,
              25.3121634,
              -78.7499262,
              33.7514329
             ],
             "name": "part-00035-d0628531-2fbd-47aa-8608-f61ff708b14c-c000.zstd.parquet"
            },
            {
             "bbox": [
              -90.0016569,
              22.499799765712,
              -73.6140424980361,
              39.375104290972224
             ],
             "name": "part-00036-d0628531-2fbd-47aa-8608-f61ff708b14c-c000.zstd.parquet"
            },
            {
             "bbox": [
              -90.000117638137,
              33.74943451614258,
              -78.749675,
              40.7821443
             ],
             "name": "part-00037-d0628531-2fbd-47aa-8608-f61ff708b14c-c000.zstd.parquet"
            },
            {
             "bbox": [
              -90.0012364,
              39.37437944847787,
              -84.3739436,
              45.000175
             ],
             "name": "part-00038-d0628531-2fbd-47aa-8608-f61ff708b14c-c000.zstd.parquet"
            },
            {
             "bbox": [
              -85.78136644628026,
              39.3745455,
              -78.7490273,
              45.000081399516944
             ],
             "name": "part-00039-d0628531-2fbd-47aa-8608-f61ff708b14c-c000.zstd.parquet"
            },
            {
             "bbox": [
              -81.562934,
              33.78659122200003,
              -74.4099297,
              45.000056
             ],
             "name": "part-00040-d0628531-2fbd-47aa-8608-f61ff708b14c-c000.zstd.parquet"
            },
            {
             "bbox": [
              -78.750909,
              39.3742601,
              -73.1227849,
              44.2970816
             ],
             "name": "part-00041-d0628531-2fbd-47aa-8608-f61ff708b14c-c000.zstd.parquet"
            },
            {
             "bbox": [
              -78.7517346,
              0.9166191,
              -11.2499193,
              45.0005778
             ],
             "name": "part-00042-d0628531-2fbd-47aa-8608-f61ff708b14c-c000.zstd.parquet"
            },
            {
             "bbox": [
              -13.3580663016382,
              4.31726056889559,
              -1.699857175e-06,
              11.2500811079771
             ],
             "name": "part-00043-d0628531-2fbd-47aa-8608-f61ff708b14c-c000.zstd.parquet"
            },
            {
             "bbox": [
              -10.8984637,
              5.6247483,
              0.0003111,
              11.25007
             ],
             "name": "part-00044-d0628531-2fbd-47aa-8608-f61ff708b14c-c000.zstd.parquet"
            },
            {
             "bbox": [
              -17.5290125695511,
              8.43742997451482,
              0.0002153,
              15.4687837200554
             ],
             "name": "part-00045-d0628531-2fbd-47aa-8608-f61ff708b14c-c000.zstd.parquet"
            },
            {
             "bbox": [
              -17.094699472885747,
              11.2498299931055,
              -1.40621819432174,
              22.500004
             ],
             "name": "part-00046-d0628531-2fbd-47aa-8608-f61ff708b14c-c000.zstd.parquet"
            },
            {
             "bbox": [
              -31.2660595,
              11.249951940287957,
              0.00011105061261274,
              39.709741
             ],
             "name": "part-00047-d0628531-2fbd-47aa-8608-f61ff708b14c-c000.zstd.parquet"
            },
            {
             "bbox": [
              -9.8300537,
              28.125149851859,
              0.0003324,
              42.1876654
             ],
             "name": "part-00048-d0628531-2fbd-47aa-8608-f61ff708b14c-c000.zstd.parquet"
            },
            {
             "bbox": [
              -90.0000493,
              39.3746753,
              0.0003332,
              56.10037372794595
             ],
             "name": "part-00049-d0628531-2fbd-47aa-8608-f61ff708b14c-c000.zstd.parquet"
            },
            {
             "bbox": [
              -89.8973067,
              44.999758,
              0.000296,
              83.0940018
             ],
             "name": "part-00050-d0628531-2fbd-47aa-8608-f61ff708b14c-c000.zstd.parquet"
            },
            {
             "bbox": [
              -10.6608572,
              48.339819,
              0.00031,
              56.2500522
             ],
             "name": "part-00051-d0628531-2fbd-47aa-8608-f61ff708b14c-c000.zstd.parquet"
            },
            {
             "bbox": [
              -5.6251026,
              51.3276731,
              0.0022643,
              56.2500556
             ],
             "name": "part-00052-d0628531-2fbd-47aa-8608-f61ff708b14c-c000.zstd.parquet"
            },
            {
             "bbox": [
              -38.470724,
              -80.4172399,
              78.0214627,
              82.1736732
             ],
             "name": "part-00053-d0628531-2fbd-47aa-8608-f61ff708b14c-c000.zstd.parquet"
            },
            {
             "bbox": [
              22.5001611772409,
              -32.8180130984219,
              32.559126408618646,
              -25.3128570092484
             ],
             "name": "part-00054-d0628531-2fbd-47aa-8608-f61ff708b14c-c000.zstd.parquet"
            },
            {
             "bbox": [
              22.5007989689653,
              -28.1251928415812,
              30.9375572,
              -22.4999761951275
             ],
             "name": "part-00055-d0628531-2fbd-47aa-8608-f61ff708b14c-c000.zstd.parquet"
            },
            {
             "bbox": [
              28.1246945717056,
              -28.1250434134364,
              33.2982820067115,
              -22.4999477
             ],
             "name": "part-00056-d0628531-2fbd-47aa-8608-f61ff708b14c-c000.zstd.parquet"
            },
            {
             "bbox": [
              11.659833928622717,
              -25.4675233927226,
              45.0000379195278,
              -11.2499728049265
             ],
             "name": "part-00057-d0628531-2fbd-47aa-8608-f61ff708b14c-c000.zstd.parquet"
            },
            {
             "bbox": [
              5.6204062,
              -16.8749903186302,
              22.5000305693117,
              1.09e-05
             ],
             "name": "part-00058-d0628531-2fbd-47aa-8608-f61ff708b14c-c000.zstd.parquet"
            },
            {
             "bbox": [
              11.25236485354359,
              -22.5000557233618,
              33.7499712705395,
              5.23e-05
             ],
             "name": "part-00059-d0628531-2fbd-47aa-8608-f61ff708b14c-c000.zstd.parquet"
            },
            {
             "bbox": [
              22.4999780978095,
              -21.0937754479315,
              33.7500274,
              -12.6562485512065
             ],
             "name": "part-00060-d0628531-2fbd-47aa-8608-f61ff708b14c-c000.zstd.parquet"
            },
            {
             "bbox": [
              22.5001246580263,
              -22.500005639368183,
              35.5346012656969,
              -11.249905096390023
             ],
             "name": "part-00061-d0628531-2fbd-47aa-8608-f61ff708b14c-c000.zstd.parquet"
            },
            {
             "bbox": [
              33.7498396,
              -22.5000076795089,
              45.0000303943574,
              -14.0624338781152
             ],
             "name": "part-00062-d0628531-2fbd-47aa-8608-f61ff708b14c-c000.zstd.parquet"
            },
            {
             "bbox": [
              22.4999466347225,
              -16.8748793810517,
              45.0000107411344,
              -5.62494874016587
             ],
             "name": "part-00063-d0628531-2fbd-47aa-8608-f61ff708b14c-c000.zstd.parquet"
            },
            {
             "bbox": [
              22.4999596439972,
              -11.2500321,
              33.7500484,
              1.39711699517172e-05
             ],
             "name": "part-00064-d0628531-2fbd-47aa-8608-f61ff708b14c-c000.zstd.parquet"
            },
            {
             "bbox": [
              28.1249800285983,
              -5.6250532,
              33.7500558,
              -1.4061835
             ],
             "name": "part-00065-d0628531-2fbd-47aa-8608-f61ff708b14c-c000.zstd.parquet"
            },
            {
             "bbox": [
              28.1250799164324,
              -11.25010860121324,
              36.56239244249662,
              0.0001795
             ],
             "name": "part-00066-d0628531-2fbd-47aa-8608-f61ff708b14c-c000.zstd.parquet"
            },
            {
             "bbox": [
              33.7499274,
              -11.2500554,
              40.71550933014916,
              -2.81240615139614
             ],
             "name": "part-00067-d0628531-2fbd-47aa-8608-f61ff708b14c-c000.zstd.parquet"
            },
            {
             "bbox": [
              33.7499146,
              -5.6250301,
              39.3751456609251,
              0.0001054
             ],
             "name": "part-00068-d0628531-2fbd-47aa-8608-f61ff708b14c-c000.zstd.parquet"
            },
            {
             "bbox": [
              35.1560985004486,
              -5.481562881866864,
              39.8727308,
              0.0001297
             ],
             "name": "part-00069-d0628531-2fbd-47aa-8608-f61ff708b14c-c000.zstd.parquet"
            },
            {
             "bbox": [
              39.374983029485,
              -43.1979807,
              77.5799446,
              6.52e-05
             ],
             "name": "part-00070-d0628531-2fbd-47aa-8608-f61ff708b14c-c000.zstd.parquet"
            },
            {
             "bbox": [
              45.0234257,
              -78.4651478,
              178.8090535,
              6.48312148325245e-05
             ],
             "name": "part-00071-d0628531-2fbd-47aa-8608-f61ff708b14c-c000.zstd.parquet"
            },
            {
             "bbox": [
              106.193021346794,
              -7.85821988781582,
              109.6877303,
              -5.6350292
             ],
             "name": "part-00072-d0628531-2fbd-47aa-8608-f61ff708b14c-c000.zstd.parquet"
            },
            {
             "bbox": [
              106.8742493,
              -8.2546037973006,
              111.093882,
              -5.92233693712648
             ],
             "name": "part-00073-d0628531-2fbd-47aa-8608-f61ff708b14c-c000.zstd.parquet"
            },
            {
             "bbox": [
              109.68742,
              -8.39591433362037,
              112.5003204,
              -7.0310734
             ],
             "name": "part-00074-d0628531-2fbd-47aa-8608-f61ff708b14c-c000.zstd.parquet"
            },
            {
             "bbox": [
              101.3589698407635,
              -7.734582820246629,
              112.500267741394,
              -2.81241234693227
             ],
             "name": "part-00075-d0628531-2fbd-47aa-8608-f61ff708b14c-c000.zstd.parquet"
            },
            {
             "bbox": [
              101.249870950686,
              -22.500043407669907,
              134.999420459082,
              0.0002245
             ],
             "name": "part-00076-d0628531-2fbd-47aa-8608-f61ff708b14c-c000.zstd.parquet"
            },
            {
             "bbox": [
              112.499769803251,
              -9.102601357167089,
              118.124954649738,
              -7.0227337
             ],
             "name": "part-00077-d0628531-2fbd-47aa-8608-f61ff708b14c-c000.zstd.parquet"
            },
            {
             "bbox": [
              112.499927995847,
              -10.9894373302129,
              123.7501035,
              4.39489288009742e-05
             ],
             "name": "part-00078-d0628531-2fbd-47aa-8608-f61ff708b14c-c000.zstd.parquet"
            },
            {
             "bbox": [
              118.757311,
              -43.6570271,
              150.9277584,
              5.03e-05
             ],
             "name": "part-00079-d0628531-2fbd-47aa-8608-f61ff708b14c-c000.zstd.parquet"
            },
            {
             "bbox": [
              -7.128548551e-07,
              -45.0000857,
              179.9972909,
              5.62506327142534
             ],
             "name": "part-00080-d0628531-2fbd-47aa-8608-f61ff708b14c-c000.zstd.parquet"
            },
            {
             "bbox": [
              -0.000377893355077763,
              0.0004498,
              11.250112,
              7.03130457721605
             ],
             "name": "part-00081-d0628531-2fbd-47aa-8608-f61ff708b14c-c000.zstd.parquet"
            },
            {
             "bbox": [
              -5.85724515125286e-05,
              5.62499669469237,
              5.62539755917512,
              8.4375736657534
             ],
             "name": "part-00082-d0628531-2fbd-47aa-8608-f61ff708b14c-c000.zstd.parquet"
            },
            {
             "bbox": [
              -8.92e-05,
              5.62480321036829,
              7.73453862551268,
              11.2500488744672
             ],
             "name": "part-00083-d0628531-2fbd-47aa-8608-f61ff708b14c-c000.zstd.parquet"
            },
            {
             "bbox": [
              5.62489857562879,
              5.6248153,
              11.2500785,
              9.84379712378096
             ],
             "name": "part-00084-d0628531-2fbd-47aa-8608-f61ff708b14c-c000.zstd.parquet"
            },
            {
             "bbox": [
              5.6249725,
              -5.65e-05,
              16.8743805061132,
              11.2501282976479
             ],
             "name": "part-00085-d0628531-2fbd-47aa-8608-f61ff708b14c-c000.zstd.parquet"
            },
            {
             "bbox": [
              11.2498967,
              -5.1e-05,
              22.5000562653988,
              11.2500405503205
             ],
             "name": "part-00086-d0628531-2fbd-47aa-8608-f61ff708b14c-c000.zstd.parquet"
            },
            {
             "bbox": [
              -8.64968294589374e-05,
              5.62497765579493,
              22.499945950785936,
              16.874686300936418
             ],
             "name": "part-00087-d0628531-2fbd-47aa-8608-f61ff708b14c-c000.zstd.parquet"
            },
            {
             "bbox": [
              2.812499212134627,
              11.2498477,
              9.8437825,
              16.8746522028155
             ],
             "name": "part-00088-d0628531-2fbd-47aa-8608-f61ff708b14c-c000.zstd.parquet"
            },
            {
             "bbox": [
              3.22186883173e-05,
              11.2499375607757,
              16.8750325,
              22.4995309682289
             ],
             "name": "part-00089-d0628531-2fbd-47aa-8608-f61ff708b14c-c000.zstd.parquet"
            },
            {
             "bbox": [
              11.2500904471994,
              -8.31428800344976e-05,
              32.6953858,
              22.499827018087714
             ],
             "name": "part-00090-d0628531-2fbd-47aa-8608-f61ff708b14c-c000.zstd.parquet"
            },
            {
             "bbox": [
              28.1250951346836,
              -4.19e-05,
              33.7501846827276,
              4.9219555
             ],
             "name": "part-00091-d0628531-2fbd-47aa-8608-f61ff708b14c-c000.zstd.parquet"
            },
            {
             "bbox": [
              22.499999808836716,
              -9.95e-05,
              35.1563451725305,
              11.2500379532889
             ],
             "name": "part-00092-d0628531-2fbd-47aa-8608-f61ff708b14c-c000.zstd.parquet"
            },
            {
             "bbox": [
              33.7499615364347,
              -0.000145,
              45.0000234655594,
              8.43757376969245
             ],
             "name": "part-00093-d0628531-2fbd-47aa-8608-f61ff708b14c-c000.zstd.parquet"
            },
            {
             "bbox": [
              33.7499839,
              5.62490873535833,
              39.3750641786128,
              11.250047700626
             ],
             "name": "part-00094-d0628531-2fbd-47aa-8608-f61ff708b14c-c000.zstd.parquet"
            },
            {
             "bbox": [
              36.5624299867605,
              5.62499003755275,
              44.999987667809,
              11.2501192871222
             ],
             "name": "part-00095-d0628531-2fbd-47aa-8608-f61ff708b14c-c000.zstd.parquet"
            },
            {
             "bbox": [
              22.4999682,
              8.4374570829691,
              45.0000757033844,
              16.8750072042801
             ],
             "name": "part-00096-d0628531-2fbd-47aa-8608-f61ff708b14c-c000.zstd.parquet"
            },
            {
             "bbox": [
              22.500060081659687,
              11.2499577507151,
              36.5625090999971,
              22.4999994389473
             ],
             "name": "part-00097-d0628531-2fbd-47aa-8608-f61ff708b14c-c000.zstd.parquet"
            },
            {
             "bbox": [
              33.7499623536553,
              11.2498502171332,
              45.000177,
              16.8749555821358
             ],
             "name": "part-00098-d0628531-2fbd-47aa-8608-f61ff708b14c-c000.zstd.parquet"
            },
            {
             "bbox": [
              -8.0099209885276e-05,
              13.359305845013111,
              45.0000262,
              34.8047662172377
             ],
             "name": "part-00099-d0628531-2fbd-47aa-8608-f61ff708b14c-c000.zstd.parquet"
            },
            {
             "bbox": [
              -0.0002545,
              33.749320707150694,
              11.2500554,
              39.3751614
             ],
             "name": "part-00100-d0628531-2fbd-47aa-8608-f61ff708b14c-c000.zstd.parquet"
            },
            {
             "bbox": [
              -0.000476,
              35.15609319940688,
              11.1635405637417,
              45.0001773
             ],
             "name": "part-00101-d0628531-2fbd-47aa-8608-f61ff708b14c-c000.zstd.parquet"
            },
            {
             "bbox": [
              2.8122653,
              34.6889986686229,
              16.582733641546312,
              45.0006966
             ],
             "name": "part-00102-d0628531-2fbd-47aa-8608-f61ff708b14c-c000.zstd.parquet"
            },
            {
             "bbox": [
              11.2496122,
              36.3860498,
              22.5002832,
              45.000374055827635
             ],
             "name": "part-00103-d0628531-2fbd-47aa-8608-f61ff708b14c-c000.zstd.parquet"
            },
            {
             "bbox": [
              16.874905,
              22.5000113038258,
              33.749997757271714,
              45.0002988
             ],
             "name": "part-00104-d0628531-2fbd-47aa-8608-f61ff708b14c-c000.zstd.parquet"
            },
            {
             "bbox": [
              22.5009401,
              26.718661233409605,
              33.7501240771396,
              32.8053013
             ],
             "name": "part-00105-d0628531-2fbd-47aa-8608-f61ff708b14c-c000.zstd.parquet"
            },
            {
             "bbox": [
              22.9040772,
              22.499983176656997,
              45.00004339075971,
              36.56254699401079
             ],
             "name": "part-00106-d0628531-2fbd-47aa-8608-f61ff708b14c-c000.zstd.parquet"
            },
            {
             "bbox": [
              22.499625,
              34.56349397517349,
              33.75004820727521,
              42.18768433101557
             ],
             "name": "part-00107-d0628531-2fbd-47aa-8608-f61ff708b14c-c000.zstd.parquet"
            },
            {
             "bbox": [
              22.499884,
              39.3741522,
              33.75001451675368,
              45.000651
             ],
             "name": "part-00108-d0628531-2fbd-47aa-8608-f61ff708b14c-c000.zstd.parquet"
            },
            {
             "bbox": [
              28.1248492,
              33.7498374,
              45.000033326409394,
              45.00004317941116
             ],
             "name": "part-00109-d0628531-2fbd-47aa-8608-f61ff708b14c-c000.zstd.parquet"
            },
            {
             "bbox": [
              33.7491258,
              35.85931766842923,
              45.0002366,
              45.0010016
             ],
             "name": "part-00110-d0628531-2fbd-47aa-8608-f61ff708b14c-c000.zstd.parquet"
            },
            {
             "bbox": [
              42.1868971,
              0.192209170913677,
              78.0950052419742,
              45.0000950310315
             ],
             "name": "part-00111-d0628531-2fbd-47aa-8608-f61ff708b14c-c000.zstd.parquet"
            },
            {
             "bbox": [
              75.9373895494043,
              8.43724911722285,
              78.7500440403989,
              11.2503260932477
             ],
             "name": "part-00112-d0628531-2fbd-47aa-8608-f61ff708b14c-c000.zstd.parquet"
            },
            {
             "bbox": [
              77.3434665054013,
              5.7741243,
              81.8775049253337,
              11.2503316
             ],
             "name": "part-00113-d0628531-2fbd-47aa-8608-f61ff708b14c-c000.zstd.parquet"
            },
            {
             "bbox": [
              71.8988113,
              7.5585469,
              81.7976511,
              16.5873835
             ],
             "name": "part-00114-d0628531-2fbd-47aa-8608-f61ff708b14c-c000.zstd.parquet"
            },
            {
             "bbox": [
              75.9366271456362,
              11.2498414,
              78.7501808656469,
              14.0625871110656
             ],
             "name": "part-00115-d0628531-2fbd-47aa-8608-f61ff708b14c-c000.zstd.parquet"
            },
            {
             "bbox": [
              73.2891825141475,
              12.656120980091,
              78.7501036769879,
              16.875205972029505
             ],
             "name": "part-00116-d0628531-2fbd-47aa-8608-f61ff708b14c-c000.zstd.parquet"
            },
            {
             "bbox": [
              68.9392011118899,
              14.0624030085571,
              78.7501497866607,
              22.5005452734509
             ],
             "name": "part-00117-d0628531-2fbd-47aa-8608-f61ff708b14c-c000.zstd.parquet"
            },
            {
             "bbox": [
              71.0154881539615,
              16.8746385,
              75.937710946751,
              22.5004559370088
             ],
             "name": "part-00118-d0628531-2fbd-47aa-8608-f61ff708b14c-c000.zstd.parquet"
            },
            {
             "bbox": [
              74.3554149791655,
              16.8747078129804,
              78.750294152883,
              19.6878121814221
             ],
             "name": "part-00119-d0628531-2fbd-47aa-8608-f61ff708b14c-c000.zstd.parquet"
            },
            {
             "bbox": [
              73.1245740501928,
              18.8085237327236,
              78.7500629256279,
              22.5001784963782
             ],
             "name": "part-00120-d0628531-2fbd-47aa-8608-f61ff708b14c-c000.zstd.parquet"
            },
            {
             "bbox": [
              75.9374119390403,
              11.249886667082,
              80.2103133700331,
              22.500151144575852
             ],
             "name": "part-00121-d0628531-2fbd-47aa-8608-f61ff708b14c-c000.zstd.parquet"
            },
            {
             "bbox": [
              78.749459536911,
              12.6560273453279,
              82.392240573411,
              17.5783226710493
             ],
             "name": "part-00122-d0628531-2fbd-47aa-8608-f61ff708b14c-c000.zstd.parquet"
            },
            {
             "bbox": [
              78.7495853343925,
              16.8746035895709,
              84.3750463742877,
              20.0390954310435
             ],
             "name": "part-00123-d0628531-2fbd-47aa-8608-f61ff708b14c-c000.zstd.parquet"
            },
            {
             "bbox": [
              78.7499100757292,
              19.6872560401361,
              84.3750488819505,
              22.5000958396265
             ],
             "name": "part-00124-d0628531-2fbd-47aa-8608-f61ff708b14c-c000.zstd.parquet"
            },
            {
             "bbox": [
              81.5622715175192,
              18.6034798688557,
              87.0923694799596,
              22.5001098769801
             ],
             "name": "part-00125-d0628531-2fbd-47aa-8608-f61ff708b14c-c000.zstd.parquet"
            },
            {
             "bbox": [
              44.99999353804875,
              21.0936819414584,
              90.0000605150833,
              28.0702883
             ],
             "name": "part-00126-d0628531-2fbd-47aa-8608-f61ff708b14c-c000.zstd.parquet"
            },
            {
             "bbox": [
              44.99997759550254,
              22.4998388779552,
              67.5001352558735,
              33.7501976
             ],
             "name": "part-00127-d0628531-2fbd-47aa-8608-f61ff708b14c-c000.zstd.parquet"
            },
            {
             "bbox": [
              44.9995416,
              30.9373101,
              67.50005791311838,
              42.1875399744985
             ],
             "name": "part-00128-d0628531-2fbd-47aa-8608-f61ff708b14c-c000.zstd.parquet"
            },
            {
             "bbox": [
              44.9996213,
              22.499924815903768,
              70.3125432022442,
              45.00002806575797
             ],
             "name": "part-00129-d0628531-2fbd-47aa-8608-f61ff708b14c-c000.zstd.parquet"
            },
            {
             "bbox": [
              67.4999528045769,
              22.4994873525914,
              73.1251177173758,
              25.312957192200344
             ],
             "name": "part-00130-d0628531-2fbd-47aa-8608-f61ff708b14c-c000.zstd.parquet"
            },
            {
             "bbox": [
              67.4999583346887,
              22.499861570123045,
              73.8282196565485,
              28.1251159653408
             ],
             "name": "part-00131-d0628531-2fbd-47aa-8608-f61ff708b14c-c000.zstd.parquet"
            },
            {
             "bbox": [
              73.1249062008527,
              22.4998363422331,
              77.3439575502401,
              25.31272648338249
             ],
             "name": "part-00132-d0628531-2fbd-47aa-8608-f61ff708b14c-c000.zstd.parquet"
            },
            {
             "bbox": [
              73.1248068413067,
              22.4998908372924,
              78.7500839673204,
              27.421961876726144
             ],
             "name": "part-00133-d0628531-2fbd-47aa-8608-f61ff708b14c-c000.zstd.parquet"
            },
            {
             "bbox": [
              73.1249398001203,
              25.31190514209088,
              78.7502461009522,
              28.125214615049288
             ],
             "name": "part-00134-d0628531-2fbd-47aa-8608-f61ff708b14c-c000.zstd.parquet"
            },
            {
             "bbox": [
              67.4998868156652,
              26.7185675594773,
              78.7501142753524,
              30.9375685561249
             ],
             "name": "part-00135-d0628531-2fbd-47aa-8608-f61ff708b14c-c000.zstd.parquet"
            },
            {
             "bbox": [
              68.9062366992769,
              28.124960697579,
              73.1255644,
              30.9377253906857
             ],
             "name": "part-00136-d0628531-2fbd-47aa-8608-f61ff708b14c-c000.zstd.parquet"
            },
            {
             "bbox": [
              67.4999121,
              30.5858203,
              73.1256800716247,
              33.7504380995756
             ],
             "name": "part-00137-d0628531-2fbd-47aa-8608-f61ff708b14c-c000.zstd.parquet"
            },
            {
             "bbox": [
              72.7733355590414,
              28.124860730872754,
              75.9379377853047,
              33.75023796547288
             ],
             "name": "part-00138-d0628531-2fbd-47aa-8608-f61ff708b14c-c000.zstd.parquet"
            },
            {
             "bbox": [
              75.2336188,
              28.1243408,
              78.7501381156273,
              30.937691317895
             ],
             "name": "part-00139-d0628531-2fbd-47aa-8608-f61ff708b14c-c000.zstd.parquet"
            },
            {
             "bbox": [
              73.1247557000874,
              28.82788653929982,
              78.7501796375202,
              32.1679954006617
             ],
             "name": "part-00140-d0628531-2fbd-47aa-8608-f61ff708b14c-c000.zstd.parquet"
            },
            {
             "bbox": [
              73.1248352324336,
              30.9370360185838,
              75.9376815768058,
              33.75018239480322
             ],
             "name": "part-00141-d0628531-2fbd-47aa-8608-f61ff708b14c-c000.zstd.parquet"
            },
            {
             "bbox": [
              74.5311746808832,
              22.499890403581446,
              81.5630197,
              33.7500980187484
             ],
             "name": "part-00142-d0628531-2fbd-47aa-8608-f61ff708b14c-c000.zstd.parquet"
            },
            {
             "bbox": [
              78.7499393336596,
              22.49976452059616,
              84.3764576,
              26.01584552075218
             ],
             "name": "part-00143-d0628531-2fbd-47aa-8608-f61ff708b14c-c000.zstd.parquet"
            },
            {
             "bbox": [
              78.7496155,
              25.3122806,
              81.5626607,
              28.125077489082102
             ],
             "name": "part-00144-d0628531-2fbd-47aa-8608-f61ff708b14c-c000.zstd.parquet"
            },
            {
             "bbox": [
              79.4530593016486,
              25.3123137367258,
              82.9688587209383,
              28.125106097526434
             ],
             "name": "part-00145-d0628531-2fbd-47aa-8608-f61ff708b14c-c000.zstd.parquet"
            },
            {
             "bbox": [
              81.5623954193948,
              25.3123334300954,
              84.3751391010943,
              27.070424259177358
             ],
             "name": "part-00146-d0628531-2fbd-47aa-8608-f61ff708b14c-c000.zstd.parquet"
            },
            {
             "bbox": [
              81.5623012532294,
              22.4999361908263,
              85.7813531143646,
              28.1252967
             ],
             "name": "part-00147-d0628531-2fbd-47aa-8608-f61ff708b14c-c000.zstd.parquet"
            },
            {
             "bbox": [
              84.3746787,
              22.4998754290987,
              87.1880486067153,
              25.3126359613364
             ],
             "name": "part-00148-d0628531-2fbd-47aa-8608-f61ff708b14c-c000.zstd.parquet"
            },
            {
             "bbox": [
              85.7811024327419,
              22.499796164497,
              88.5938625388122,
              25.3140188554218
             ],
             "name": "part-00149-d0628531-2fbd-47aa-8608-f61ff708b14c-c000.zstd.parquet"
            },
            {
             "bbox": [
              87.1874030621989,
              22.4998239358533,
              90.0001904,
              24.8730814270803
             ],
             "name": "part-00150-d0628531-2fbd-47aa-8608-f61ff708b14c-c000.zstd.parquet"
            },
            {
             "bbox": [
              84.3748979152038,
              23.9060902,
              90.0002086621879,
              26.015708389357
             ],
             "name": "part-00151-d0628531-2fbd-47aa-8608-f61ff708b14c-c000.zstd.parquet"
            },
            {
             "bbox": [
              84.3747996391379,
              25.3123875037748,
              87.1876457668641,
              26.7188514270064
             ],
             "name": "part-00152-d0628531-2fbd-47aa-8608-f61ff708b14c-c000.zstd.parquet"
            },
            {
             "bbox": [
              84.3748558,
              25.312431795322397,
              87.8906947018673,
              28.125065
             ],
             "name": "part-00153-d0628531-2fbd-47aa-8608-f61ff708b14c-c000.zstd.parquet"
            },
            {
             "bbox": [
              87.1870842,
              25.3123625,
              90.0000692234622,
              26.7190518
             ],
             "name": "part-00154-d0628531-2fbd-47aa-8608-f61ff708b14c-c000.zstd.parquet"
            },
            {
             "bbox": [
              78.7496981,
              26.0154868862957,
              90.0002124,
              30.234494544075268
             ],
             "name": "part-00155-d0628531-2fbd-47aa-8608-f61ff708b14c-c000.zstd.parquet"
            },
            {
             "bbox": [
              67.4999286,
              28.1248927,
              89.9989788,
              36.56263810472615
             ],
             "name": "part-00156-d0628531-2fbd-47aa-8608-f61ff708b14c-c000.zstd.parquet"
            },
            {
             "bbox": [
              67.4998833,
              33.74982759101863,
              78.74999938112089,
              42.1880436
             ],
             "name": "part-00157-d0628531-2fbd-47aa-8608-f61ff708b14c-c000.zstd.parquet"
            },
            {
             "bbox": [
              -0.000349,
              33.74999882868173,
              89.9996057,
              47.812801
             ],
             "name": "part-00158-d0628531-2fbd-47aa-8608-f61ff708b14c-c000.zstd.parquet"
            },
            {
             "bbox": [
              -0.000573,
              45.0014016,
              5.626194,
              50.62532
             ],
             "name": "part-00159-d0628531-2fbd-47aa-8608-f61ff708b14c-c000.zstd.parquet"
            },
            {
             "bbox": [
              2.4606769,
              44.9986564,
              9.1414469,
              50.625883
             ],
             "name": "part-00160-d0628531-2fbd-47aa-8608-f61ff708b14c-c000.zstd.parquet"
            },
            {
             "bbox": [
              5.6245871,
              44.9996515,
              11.2503242,
              50.6255943
             ],
             "name": "part-00161-d0628531-2fbd-47aa-8608-f61ff708b14c-c000.zstd.parquet"
            },
            {
             "bbox": [
              -0.0009639,
              47.8116072,
              11.2504289,
              52.03135980514112
             ],
             "name": "part-00162-d0628531-2fbd-47aa-8608-f61ff708b14c-c000.zstd.parquet"
            },
            {
             "bbox": [
              -0.0017905,
              50.6245678,
              5.6262986,
              53.4375559
             ],
             "name": "part-00163-d0628531-2fbd-47aa-8608-f61ff708b14c-c000.zstd.parquet"
            },
            {
             "bbox": [
              -0.0004121,
              50.6243072,
              8.4377128,
              53.7531497
             ],
             "name": "part-00164-d0628531-2fbd-47aa-8608-f61ff708b14c-c000.zstd.parquet"
            },
            {
             "bbox": [
              5.6240088,
              50.624583,
              11.2503872,
              53.4381669
             ],
             "name": "part-00165-d0628531-2fbd-47aa-8608-f61ff708b14c-c000.zstd.parquet"
            },
            {
             "bbox": [
              5.6251806,
              44.999705,
              16.8750945,
              56.2504037
             ],
             "name": "part-00166-d0628531-2fbd-47aa-8608-f61ff708b14c-c000.zstd.parquet"
            },
            {
             "bbox": [
              11.2494717,
              45.7030046,
              16.8755585,
              50.6254855
             ],
             "name": "part-00167-d0628531-2fbd-47aa-8608-f61ff708b14c-c000.zstd.parquet"
            },
            {
             "bbox": [
              14.0621437,
              44.999771,
              22.5000644,
              50.6253406
             ],
             "name": "part-00168-d0628531-2fbd-47aa-8608-f61ff708b14c-c000.zstd.parquet"
            },
            {
             "bbox": [
              11.249391,
              47.812206,
              22.5004813,
              52.0315268
             ],
             "name": "part-00169-d0628531-2fbd-47aa-8608-f61ff708b14c-c000.zstd.parquet"
            },
            {
             "bbox": [
              11.2495035,
              50.6247329,
              16.8755461,
              56.2503304
             ],
             "name": "part-00170-d0628531-2fbd-47aa-8608-f61ff708b14c-c000.zstd.parquet"
            },
            {
             "bbox": [
              13.3592881,
              50.6247423,
              22.5004781,
              56.250233
             ],
             "name": "part-00171-d0628531-2fbd-47aa-8608-f61ff708b14c-c000.zstd.parquet"
            },
            {
             "bbox": [
              0.1983619,
              53.4373032,
              22.5003593,
              65.2026201
             ],
             "name": "part-00172-d0628531-2fbd-47aa-8608-f61ff708b14c-c000.zstd.parquet"
            },
            {
             "bbox": [
              11.2497557,
              44.99970199688027,
              28.1250923,
              67.5000813
             ],
             "name": "part-00173-d0628531-2fbd-47aa-8608-f61ff708b14c-c000.zstd.parquet"
            },
            {
             "bbox": [
              22.4997111,
              44.99992201462426,
              33.750045428418545,
              50.6253741
             ],
             "name": "part-00174-d0628531-2fbd-47aa-8608-f61ff708b14c-c000.zstd.parquet"
            },
            {
             "bbox": [
              22.4994218,
              47.8123289,
              33.7501807,
              55.5470042
             ],
             "name": "part-00175-d0628531-2fbd-47aa-8608-f61ff708b14c-c000.zstd.parquet"
            },
            {
             "bbox": [
              22.4997016,
              44.9997627,
              37.6172673,
              56.2501345
             ],
             "name": "part-00176-d0628531-2fbd-47aa-8608-f61ff708b14c-c000.zstd.parquet"
            },
            {
             "bbox": [
              33.7493992,
              44.9994719,
              42.1875308,
              50.6252902
             ],
             "name": "part-00177-d0628531-2fbd-47aa-8608-f61ff708b14c-c000.zstd.parquet"
            },
            {
             "bbox": [
              33.749896,
              44.9996674,
              45.000084,
              56.2501584
             ],
             "name": "part-00178-d0628531-2fbd-47aa-8608-f61ff708b14c-c000.zstd.parquet"
            },
            {
             "bbox": [
              22.4991682,
              50.6247233,
              45.0009455,
              59.0625501
             ],
             "name": "part-00179-d0628531-2fbd-47aa-8608-f61ff708b14c-c000.zstd.parquet"
            },
            {
             "bbox": [
              22.499641,
              56.2498433,
              36.5629503,
              67.50005816800007
             ],
             "name": "part-00180-d0628531-2fbd-47aa-8608-f61ff708b14c-c000.zstd.parquet"
            },
            {
             "bbox": [
              2.0039977,
              45.00018388198506,
              56.24992317826079,
              80.690222
             ],
             "name": "part-00181-d0628531-2fbd-47aa-8608-f61ff708b14c-c000.zstd.parquet"
            },
            {
             "bbox": [
              44.9994156,
              44.99995751532075,
              67.50000235115355,
              56.2505988
             ],
             "name": "part-00182-d0628531-2fbd-47aa-8608-f61ff708b14c-c000.zstd.parquet"
            },
            {
             "bbox": [
              44.999742,
              44.9997992,
              89.9997445,
              67.50032
             ],
             "name": "part-00183-d0628531-2fbd-47aa-8608-f61ff708b14c-c000.zstd.parquet"
            },
            {
             "bbox": [
              45.0757241,
              -6.79711714306563e-05,
              101.2501916,
              81.8030864
             ],
             "name": "part-00184-d0628531-2fbd-47aa-8608-f61ff708b14c-c000.zstd.parquet"
            },
            {
             "bbox": [
              97.6371748276106,
              -0.0001793,
              112.500085,
              11.2501587810854
             ],
             "name": "part-00185-d0628531-2fbd-47aa-8608-f61ff708b14c-c000.zstd.parquet"
            },
            {
             "bbox": [
              101.249909526412,
              1.4061571,
              112.4998427349657,
              11.2502073567986
             ],
             "name": "part-00186-d0628531-2fbd-47aa-8608-f61ff708b14c-c000.zstd.parquet"
            },
            {
             "bbox": [
              92.2238544,
              7.4853162,
              112.354046,
              16.875116274913623
             ],
             "name": "part-00187-d0628531-2fbd-47aa-8608-f61ff708b14c-c000.zstd.parquet"
            },
            {
             "bbox": [
              94.0917684,
              13.3590399374086,
              101.2504134,
              18.281298663391894
             ],
             "name": "part-00188-d0628531-2fbd-47aa-8608-f61ff708b14c-c000.zstd.parquet"
            },
            {
             "bbox": [
              89.9999383,
              16.873956548651464,
              101.250128763622,
              22.5006944
             ],
             "name": "part-00189-d0628531-2fbd-47aa-8608-f61ff708b14c-c000.zstd.parquet"
            },
            {
             "bbox": [
              95.62498890714312,
              11.2497024,
              105.468837299561,
              22.500152286613357
             ],
             "name": "part-00190-d0628531-2fbd-47aa-8608-f61ff708b14c-c000.zstd.parquet"
            },
            {
             "bbox": [
              101.249780357802,
              11.2498134435774,
              106.8751599,
              16.875248
             ],
             "name": "part-00191-d0628531-2fbd-47aa-8608-f61ff708b14c-c000.zstd.parquet"
            },
            {
             "bbox": [
              104.0622865,
              11.24986996112564,
              109.4577701,
              16.8750801637492
             ],
             "name": "part-00192-d0628531-2fbd-47aa-8608-f61ff708b14c-c000.zstd.parquet"
            },
            {
             "bbox": [
              101.24990044014,
              14.238249050283244,
              112.4454083,
              19.6875861545868
             ],
             "name": "part-00193-d0628531-2fbd-47aa-8608-f61ff708b14c-c000.zstd.parquet"
            },
            {
             "bbox": [
              101.249935486083,
              18.281155221336,
              106.619127297751,
              22.5003389033199
             ],
             "name": "part-00194-d0628531-2fbd-47aa-8608-f61ff708b14c-c000.zstd.parquet"
            },
            {
             "bbox": [
              104.062338560967,
              16.874889,
              112.3173784035306,
              22.5001164506552
             ],
             "name": "part-00195-d0628531-2fbd-47aa-8608-f61ff708b14c-c000.zstd.parquet"
            },
            {
             "bbox": [
              106.874911594965,
              -5.58560272234485e-05,
              134.3384626,
              22.4999571
             ],
             "name": "part-00196-d0628531-2fbd-47aa-8608-f61ff708b14c-c000.zstd.parquet"
            },
            {
             "bbox": [
              112.7221763,
              5.624985322250609,
              134.7200806,
              16.6740783
             ],
             "name": "part-00197-d0628531-2fbd-47aa-8608-f61ff708b14c-c000.zstd.parquet"
            },
            {
             "bbox": [
              119.7513564618817,
              13.3592277,
              123.750028570521,
              16.8750581
             ],
             "name": "part-00198-d0628531-2fbd-47aa-8608-f61ff708b14c-c000.zstd.parquet"
            },
            {
             "bbox": [
              89.999522,
              11.2498834,
              125.630713211862,
              23.9068075
             ],
             "name": "part-00199-d0628531-2fbd-47aa-8608-f61ff708b14c-c000.zstd.parquet"
            },
            {
             "bbox": [
              89.9999063384183,
              22.4999146,
              92.8125396861896,
              25.313794
             ],
             "name": "part-00200-d0628531-2fbd-47aa-8608-f61ff708b14c-c000.zstd.parquet"
            },
            {
             "bbox": [
              89.9999094021548,
              22.499804,
              95.62500156501368,
              26.7188500158329
             ],
             "name": "part-00201-d0628531-2fbd-47aa-8608-f61ff708b14c-c000.zstd.parquet"
            },
            {
             "bbox": [
              89.999922188662,
              22.499819,
              106.699288766669,
              33.7483231
             ],
             "name": "part-00202-d0628531-2fbd-47aa-8608-f61ff708b14c-c000.zstd.parquet"
            },
            {
             "bbox": [
              90.0008824,
              22.4988002,
              134.9520565,
              44.9985617
             ],
             "name": "part-00203-d0628531-2fbd-47aa-8608-f61ff708b14c-c000.zstd.parquet"
            },
            {
             "bbox": [
              123.7496406,
              0.1215334,
              173.9416898,
              45.0000214
             ],
             "name": "part-00204-d0628531-2fbd-47aa-8608-f61ff708b14c-c000.zstd.parquet"
            },
            {
             "bbox": [
              135.7042519,
              33.8662381,
              140.33159291061315,
              36.56274522438504
             ],
             "name": "part-00205-d0628531-2fbd-47aa-8608-f61ff708b14c-c000.zstd.parquet"
            },
            {
             "bbox": [
              136.5548138129823,
              35.156146932703045,
              140.6256156,
              38.1424592
             ],
             "name": "part-00206-d0628531-2fbd-47aa-8608-f61ff708b14c-c000.zstd.parquet"
            },
            {
             "bbox": [
              89.9997812,
              35.6760823475684,
              179.6799917,
              80.0487878
             ],
             "name": "part-00207-d0628531-2fbd-47aa-8608-f61ff708b14c-c000.zstd.parquet"
            }
           ],
           "name": "building",
           "relative_path": "/type=building"
          },
          {
           "files": [
            {
             "bbox": [
              -179.1248605,
              -54.8180518,
              177.4428372,
              78.2382991
             ],
             "name": "part-00000-24b1988c-66ff-4689-967d-b2f3138b33ce-c000.zstd.parquet"
            }
           ],
           "name": "building_part",
           "relative_path": "/type=building_part"
          }
         ]
        },
        {
         "name": "divisions",
         "relative_path": "/theme=divisions",
         "status": "{alpha/beta/release}",
         "types": [
          {
           "files": [
            {
             "bbox": [
              -179.9411131,
              -89.998,
              179.990617,
              82.4989872
             ],
             "name": "part-00000-936b9ec1-f625-4e87-9fe4-bfc2d1655d2a-c000.zstd.parquet"
            }
           ],
           "name": "division",
           "relative_path": "/type=division"
          },
          {
           "files": [
            {
             "bbox": [
              -180,
              -85.0511287,
              180,
              83.875172
             ],
             "name": "part-00000-5a7f8692-eacf-462e-8e2b-7cd8d518c5c3-c000.zstd.parquet"
            },
            {
             "bbox": [
              -180,
              -25.181732,
              180,
              71.5889534
             ],
             "name": "part-00001-5a7f8692-eacf-462e-8e2b-7cd8d518c5c3-c000.zstd.parquet"
            },
            {
             "bbox": [
              -180,
              -2.8763583,
              180,
              82.0586232
             ],
             "name": "part-00002-5a7f8692-eacf-462e-8e2b-7cd8d518c5c3-c000.zstd.parquet"
            }
           ],
           "name": "division_area",
           "relative_path": "/type=division_area"
          },
          {
           "files": [
            {
             "bbox": [
              -180,
              -54.8936523,
              180,
              80.8319058
             ],
             "name": "part-00000-59a94858-8c31-4271-8cce-3728a74280b9-c000.zstd.parquet"
            }
           ],
           "name": "division_boundary",
           "relative_path": "/type=division_boundary"
          }
         ]
        },
        {
         "name": "places",
         "relative_path": "/theme=places",
         "status": "{alpha/beta/release}",
         "types": [
          {
           "files": [
            {
             "bbox": [
              -179.999992,
              -84.9963325,
              -0.0016737,
              44.9999981
             ],
             "name": "part-00000-6451763d-c77e-479f-9933-ce6ca6f17ed2-c000.zstd.parquet"
            },
            {
             "bbox": [
              -179.9921036,
              0,
              -0.000527,
              84.9838568
             ],
             "name": "part-00001-6451763d-c77e-479f-9933-ce6ca6f17ed2-c000.zstd.parquet"
            },
            {
             "bbox": [
              -90,
              -84.9942107,
              179.9999222,
              84.9901002
             ],
             "name": "part-00002-6451763d-c77e-479f-9933-ce6ca6f17ed2-c000.zstd.parquet"
            },
            {
             "bbox": [
              0,
              0,
              89.9999893,
              56.2499948
             ],
             "name": "part-00003-6451763d-c77e-479f-9933-ce6ca6f17ed2-c000.zstd.parquet"
            },
            {
             "bbox": [
              0,
              0,
              180,
              84.9910395
             ],
             "name": "part-00004-6451763d-c77e-479f-9933-ce6ca6f17ed2-c000.zstd.parquet"
            }
           ],
           "name": "place",
           "relative_path": "/type=place"
          }
         ]
        },
        {
         "name": "transportation",
         "relative_path": "/theme=transportation",
         "status": "{alpha/beta/release}",
         "types": [
          {
           "files": [
            {
             "bbox": [
              -180,
              -85.0511284,
              -5.6391533,
              44.9999737
             ],
             "name": "part-00000-421934ac-1f1f-4fc0-b415-657dcf3c49e1-c000.zstd.parquet"
            },
            {
             "bbox": [
              -180,
              22.5000056,
              -90.0000007,
              71.386743
             ],
             "name": "part-00001-421934ac-1f1f-4fc0-b415-657dcf3c49e1-c000.zstd.parquet"
            },
            {
             "bbox": [
              -135,
              2e-06,
              -49.6077104,
              78.7968002
             ],
             "name": "part-00002-421934ac-1f1f-4fc0-b415-657dcf3c49e1-c000.zstd.parquet"
            },
            {
             "bbox": [
              -89.9999998,
              0.9166931,
              -2e-07,
              44.9999981
             ],
             "name": "part-00003-421934ac-1f1f-4fc0-b415-657dcf3c49e1-c000.zstd.parquet"
            },
            {
             "bbox": [
              -90,
              -80.4163753,
              78.8696909,
              82.5254024
             ],
             "name": "part-00004-421934ac-1f1f-4fc0-b415-657dcf3c49e1-c000.zstd.parquet"
            },
            {
             "bbox": [
              3.1e-06,
              -82.4240797,
              180,
              11.2499989
             ],
             "name": "part-00005-421934ac-1f1f-4fc0-b415-657dcf3c49e1-c000.zstd.parquet"
            },
            {
             "bbox": [
              0,
              0,
              44.9999978,
              44.9999999
             ],
             "name": "part-00006-421934ac-1f1f-4fc0-b415-657dcf3c49e1-c000.zstd.parquet"
            },
            {
             "bbox": [
              22.5000033,
              0.1949244,
              89.9999909,
              44.9999996
             ],
             "name": "part-00007-421934ac-1f1f-4fc0-b415-657dcf3c49e1-c000.zstd.parquet"
            },
            {
             "bbox": [
              1e-06,
              22.5000001,
              89.9999978,
              53.4372807
             ],
             "name": "part-00008-421934ac-1f1f-4fc0-b415-657dcf3c49e1-c000.zstd.parquet"
            },
            {
             "bbox": [
              2.5e-06,
              45.0000003,
              22.4999978,
              56.2499915
             ],
             "name": "part-00009-421934ac-1f1f-4fc0-b415-657dcf3c49e1-c000.zstd.parquet"
            },
            {
             "bbox": [
              4.5103115,
              45.0000003,
              44.9999989,
              67.499916
             ],
             "name": "part-00010-421934ac-1f1f-4fc0-b415-657dcf3c49e1-c000.zstd.parquet"
            },
            {
             "bbox": [
              11.3966018,
              0,
              134.7206561,
              80.8271966
             ],
             "name": "part-00011-421934ac-1f1f-4fc0-b415-657dcf3c49e1-c000.zstd.parquet"
            },
            {
             "bbox": [
              90,
              0.1233794,
              180,
              79.5515902
             ],
             "name": "part-00012-421934ac-1f1f-4fc0-b415-657dcf3c49e1-c000.zstd.parquet"
            }
           ],
           "name": "connector",
           "relative_path": "/type=connector"
          },
          {
           "files": [
            {
             "bbox": [
              -180,
              -85.0511284,
              0.0647969,
              -0.2021015
             ],
             "name": "part-00000-64fa5d4b-991b-493d-ad9c-41edcfbd4776-c000.zstd.parquet"
            },
            {
             "bbox": [
              -90.313797,
              -28.240873,
              -44.9781881,
              0.0165403
             ],
             "name": "part-00001-64fa5d4b-991b-493d-ad9c-41edcfbd4776-c000.zstd.parquet"
            },
            {
             "bbox": [
              -78.4052201,
              -40.35023,
              -9.8798791,
              0.3368308
             ],
             "name": "part-00002-64fa5d4b-991b-493d-ad9c-41edcfbd4776-c000.zstd.parquet"
            },
            {
             "bbox": [
              -178.2960021,
              -21.1672365,
              -5.6391533,
              28.3948663
             ],
             "name": "part-00003-64fa5d4b-991b-493d-ad9c-41edcfbd4776-c000.zstd.parquet"
            },
            {
             "bbox": [
              -119.5710143,
              13.6881839,
              -89.9268058,
              33.7767811
             ],
             "name": "part-00004-64fa5d4b-991b-493d-ad9c-41edcfbd4776-c000.zstd.parquet"
            },
            {
             "bbox": [
              -124.563238,
              22.4850343,
              -100.9285074,
              45.1751447
             ],
             "name": "part-00005-64fa5d4b-991b-493d-ad9c-41edcfbd4776-c000.zstd.parquet"
            },
            {
             "bbox": [
              -112.6837483,
              18.1264415,
              -88.0133631,
              33.8980748
             ],
             "name": "part-00006-64fa5d4b-991b-493d-ad9c-41edcfbd4776-c000.zstd.parquet"
            },
            {
             "bbox": [
              -112.765714,
              29.102794,
              -89.8512768,
              45.043209
             ],
             "name": "part-00007-64fa5d4b-991b-493d-ad9c-41edcfbd4776-c000.zstd.parquet"
            },
            {
             "bbox": [
              -180,
              33.4544455,
              -89.6184122,
              71.386743
             ],
             "name": "part-00008-64fa5d4b-991b-493d-ad9c-41edcfbd4776-c000.zstd.parquet"
            },
            {
             "bbox": [
              -135.6995145,
              -0.038101,
              -73.0975932,
              78.7968002
             ],
             "name": "part-00009-64fa5d4b-991b-493d-ad9c-41edcfbd4776-c000.zstd.parquet"
            },
            {
             "bbox": [
              -90.7367502,
              -0.0371277,
              -49.931042,
              28.2151218
             ],
             "name": "part-00010-64fa5d4b-991b-493d-ad9c-41edcfbd4776-c000.zstd.parquet"
            },
            {
             "bbox": [
              -90.1803494,
              22.4992287,
              -73.8475824,
              36.6618415
             ],
             "name": "part-00011-64fa5d4b-991b-493d-ad9c-41edcfbd4776-c000.zstd.parquet"
            },
            {
             "bbox": [
              -90.3143197,
              33.4793636,
              -78.2112205,
              40.7948517
             ],
             "name": "part-00012-64fa5d4b-991b-493d-ad9c-41edcfbd4776-c000.zstd.parquet"
            },
            {
             "bbox": [
              -90.3951181,
              39.1678644,
              -78.517024,
              45.0866203
             ],
             "name": "part-00013-64fa5d4b-991b-493d-ad9c-41edcfbd4776-c000.zstd.parquet"
            },
            {
             "bbox": [
              -84.5931242,
              33.7845513,
              -74.4098184,
              45.016476
             ],
             "name": "part-00014-64fa5d4b-991b-493d-ad9c-41edcfbd4776-c000.zstd.parquet"
            },
            {
             "bbox": [
              -78.9811104,
              39.2930982,
              -69.9295938,
              45.0422598
             ],
             "name": "part-00015-64fa5d4b-991b-493d-ad9c-41edcfbd4776-c000.zstd.parquet"
            },
            {
             "bbox": [
              -73.134146,
              0.9166931,
              1.0019255,
              45.1076164
             ],
             "name": "part-00016-64fa5d4b-991b-493d-ad9c-41edcfbd4776-c000.zstd.parquet"
            },
            {
             "bbox": [
              -9.5147904,
              33.6340235,
              3.7387758,
              43.789166
             ],
             "name": "part-00017-64fa5d4b-991b-493d-ad9c-41edcfbd4776-c000.zstd.parquet"
            },
            {
             "bbox": [
              -92.077505,
              35.8769122,
              5.3430021,
              82.5254024
             ],
             "name": "part-00018-64fa5d4b-991b-493d-ad9c-41edcfbd4776-c000.zstd.parquet"
            },
            {
             "bbox": [
              -10.6611156,
              47.8077609,
              2.1850198,
              56.4297966
             ],
             "name": "part-00019-64fa5d4b-991b-493d-ad9c-41edcfbd4776-c000.zstd.parquet"
            },
            {
             "bbox": [
              -38.4649162,
              -80.4163753,
              78.8696909,
              81.6057836
             ],
             "name": "part-00020-64fa5d4b-991b-493d-ad9c-41edcfbd4776-c000.zstd.parquet"
            },
            {
             "bbox": [
              5.6203363,
              -28.12978,
              45.0920885,
              0.4020259
             ],
             "name": "part-00021-64fa5d4b-991b-493d-ad9c-41edcfbd4776-c000.zstd.parquet"
            },
            {
             "bbox": [
              28.1121501,
              -82.4240797,
              179.9999994,
              0.2358812
             ],
             "name": "part-00022-64fa5d4b-991b-493d-ad9c-41edcfbd4776-c000.zstd.parquet"
            },
            {
             "bbox": [
              100.215877,
              -23.6904568,
              137.0091138,
              1.2251403
             ],
             "name": "part-00023-64fa5d4b-991b-493d-ad9c-41edcfbd4776-c000.zstd.parquet"
            },
            {
             "bbox": [
              -0.0334116,
              -45.4795241,
              180,
              8.5564334
             ],
             "name": "part-00024-64fa5d4b-991b-493d-ad9c-41edcfbd4776-c000.zstd.parquet"
            },
            {
             "bbox": [
              -0.0516298,
              -0.2734187,
              45.054814,
              23.6832655
             ],
             "name": "part-00025-64fa5d4b-991b-493d-ad9c-41edcfbd4776-c000.zstd.parquet"
            },
            {
             "bbox": [
              -2.9255861,
              5.474439,
              45.247724,
              44.4052182
             ],
             "name": "part-00026-64fa5d4b-991b-493d-ad9c-41edcfbd4776-c000.zstd.parquet"
            },
            {
             "bbox": [
              -5.5200318,
              32.8972229,
              15.3753916,
              45.3413806
             ],
             "name": "part-00027-64fa5d4b-991b-493d-ad9c-41edcfbd4776-c000.zstd.parquet"
            },
            {
             "bbox": [
              9.1072115,
              21.8071668,
              34.131007,
              45.6336519
             ],
             "name": "part-00028-64fa5d4b-991b-493d-ad9c-41edcfbd4776-c000.zstd.parquet"
            },
            {
             "bbox": [
              22.0550537,
              21.5488705,
              45.3077808,
              39.5405233
             ],
             "name": "part-00029-64fa5d4b-991b-493d-ad9c-41edcfbd4776-c000.zstd.parquet"
            },
            {
             "bbox": [
              22.4155562,
              31.4563935,
              45.154694,
              45.1869698
             ],
             "name": "part-00030-64fa5d4b-991b-493d-ad9c-41edcfbd4776-c000.zstd.parquet"
            },
            {
             "bbox": [
              27.4578234,
              0.1949244,
              81.8777758,
              46.3452468
             ],
             "name": "part-00031-64fa5d4b-991b-493d-ad9c-41edcfbd4776-c000.zstd.parquet"
            },
            {
             "bbox": [
              68.9427093,
              10.8535463,
              92.7658081,
              24.2156571
             ],
             "name": "part-00032-64fa5d4b-991b-493d-ad9c-41edcfbd4776-c000.zstd.parquet"
            },
            {
             "bbox": [
              43.9630119,
              18.5868801,
              90.0309946,
              37.98135
             ],
             "name": "part-00033-64fa5d4b-991b-493d-ad9c-41edcfbd4776-c000.zstd.parquet"
            },
            {
             "bbox": [
              44.8996964,
              22.0256715,
              78.9552328,
              46.29016
             ],
             "name": "part-00034-64fa5d4b-991b-493d-ad9c-41edcfbd4776-c000.zstd.parquet"
            },
            {
             "bbox": [
              67.4259777,
              22.3890742,
              84.6420952,
              33.8235334
             ],
             "name": "part-00035-64fa5d4b-991b-493d-ad9c-41edcfbd4776-c000.zstd.parquet"
            },
            {
             "bbox": [
              67.3940707,
              22.2671302,
              90.309838,
              43.7080082
             ],
             "name": "part-00036-64fa5d4b-991b-493d-ad9c-41edcfbd4776-c000.zstd.parquet"
            },
            {
             "bbox": [
              -0.1426562,
              33.3559233,
              90.5391638,
              50.7883593
             ],
             "name": "part-00037-64fa5d4b-991b-493d-ad9c-41edcfbd4776-c000.zstd.parquet"
            },
            {
             "bbox": [
              5.2803846,
              44.8159972,
              11.4148386,
              50.6604372
             ],
             "name": "part-00038-64fa5d4b-991b-493d-ad9c-41edcfbd4776-c000.zstd.parquet"
            },
            {
             "bbox": [
              -1.1601976,
              47.7910672,
              11.3458997,
              54.6627915
             ],
             "name": "part-00039-64fa5d4b-991b-493d-ad9c-41edcfbd4776-c000.zstd.parquet"
            },
            {
             "bbox": [
              -1.4514726,
              50.5680789,
              10.206845,
              55.0129821
             ],
             "name": "part-00040-64fa5d4b-991b-493d-ad9c-41edcfbd4776-c000.zstd.parquet"
            },
            {
             "bbox": [
              5.6146292,
              44.7436225,
              16.9074888,
              57.6958324
             ],
             "name": "part-00041-64fa5d4b-991b-493d-ad9c-41edcfbd4776-c000.zstd.parquet"
            },
            {
             "bbox": [
              11.1882771,
              44.8915839,
              22.6125329,
              50.6679191
             ],
             "name": "part-00042-64fa5d4b-991b-493d-ad9c-41edcfbd4776-c000.zstd.parquet"
            },
            {
             "bbox": [
              9.7473207,
              47.6967697,
              22.8631551,
              56.5326786
             ],
             "name": "part-00043-64fa5d4b-991b-493d-ad9c-41edcfbd4776-c000.zstd.parquet"
            },
            {
             "bbox": [
              -6.7707145,
              50.5980041,
              25.2232488,
              65.2025675
             ],
             "name": "part-00044-64fa5d4b-991b-493d-ad9c-41edcfbd4776-c000.zstd.parquet"
            },
            {
             "bbox": [
              10.0038826,
              44.8374016,
              34.023537,
              67.6526659
             ],
             "name": "part-00045-64fa5d4b-991b-493d-ad9c-41edcfbd4776-c000.zstd.parquet"
            },
            {
             "bbox": [
              19.602779,
              44.1213462,
              49.0858251,
              62.2405058
             ],
             "name": "part-00046-64fa5d4b-991b-493d-ad9c-41edcfbd4776-c000.zstd.parquet"
            },
            {
             "bbox": [
              11.3966018,
              43.6955018,
              79.6365754,
              78.972536
             ],
             "name": "part-00047-64fa5d4b-991b-493d-ad9c-41edcfbd4776-c000.zstd.parquet"
            },
            {
             "bbox": [
              44.9697661,
              -0.8031912,
              112.941083,
              80.8273307
             ],
             "name": "part-00048-64fa5d4b-991b-493d-ad9c-41edcfbd4776-c000.zstd.parquet"
            },
            {
             "bbox": [
              89.986074,
              9.5352036,
              112.8813136,
              22.7835469
             ],
             "name": "part-00049-64fa5d4b-991b-493d-ad9c-41edcfbd4776-c000.zstd.parquet"
            },
            {
             "bbox": [
              101.1941736,
              -1.3824183,
              134.7208205,
              23.272295
             ],
             "name": "part-00050-64fa5d4b-991b-493d-ad9c-41edcfbd4776-c000.zstd.parquet"
            },
            {
             "bbox": [
              87.2330546,
              10.2925398,
              125.6293876,
              45.5337443
             ],
             "name": "part-00051-64fa5d4b-991b-493d-ad9c-41edcfbd4776-c000.zstd.parquet"
            },
            {
             "bbox": [
              111.494583,
              22.4792367,
              135.4222936,
              39.4593585
             ],
             "name": "part-00052-64fa5d4b-991b-493d-ad9c-41edcfbd4776-c000.zstd.parquet"
            },
            {
             "bbox": [
              111.5305965,
              33.3036757,
              135.4312247,
              46.3854744
             ],
             "name": "part-00053-64fa5d4b-991b-493d-ad9c-41edcfbd4776-c000.zstd.parquet"
            },
            {
             "bbox": [
              122.8833414,
              0.1183279,
              173.9423704,
              45.6318962
             ],
             "name": "part-00054-64fa5d4b-991b-493d-ad9c-41edcfbd4776-c000.zstd.parquet"
            },
            {
             "bbox": [
              88.7954521,
              35.1537567,
              180,
              79.5547126
             ],
             "name": "part-00055-64fa5d4b-991b-493d-ad9c-41edcfbd4776-c000.zstd.parquet"
            }
           ],
           "name": "segment",
           "relative_path": "/type=segment"
          }
         ]
        }
       ]
      },
      "text/plain": [
       "<IPython.core.display.JSON object>"
      ]
     },
     "execution_count": 18,
     "metadata": {
      "application/json": {
       "expanded": false,
       "root": "root"
      }
     },
     "output_type": "execute_result"
    }
   ],
   "source": [
    "JSON(manifest)"
   ]
  },
  {
   "cell_type": "markdown",
   "id": "add8ca58-2b5b-4bd4-a74f-b432d71a067b",
   "metadata": {},
   "source": [
    "Next we'll construct the Parquet URLs for each of the building files:"
   ]
  },
  {
   "cell_type": "code",
   "execution_count": 19,
   "id": "6a1e87a4-e329-444e-a68d-5bf79af683fc",
   "metadata": {},
   "outputs": [],
   "source": [
    "s3_url = \"s3://\"\n",
    "\n",
    "s3_url += manifest[\"s3_location\"]\n",
    "buildings_manifest = manifest[\"themes\"][2]\n",
    "\n",
    "s3_url += buildings_manifest[\"relative_path\"]\n",
    "buildings_type = buildings_manifest[\"types\"][0]\n",
    "\n",
    "s3_url += buildings_type[\"relative_path\"]\n",
    "\n",
    "file_names = [s3_url + \"/\" + file[\"name\"] for file in buildings_type[\"files\"]]"
   ]
  },
  {
   "cell_type": "code",
   "execution_count": 20,
   "id": "8ffaf195-0dce-430b-973b-2405ddf36bf3",
   "metadata": {},
   "outputs": [
    {
     "data": {
      "text/plain": [
       "['s3://overturemaps-us-west-2/release/2024-09-18.0/theme=buildings/type=building/part-00000-d0628531-2fbd-47aa-8608-f61ff708b14c-c000.zstd.parquet',\n",
       " 's3://overturemaps-us-west-2/release/2024-09-18.0/theme=buildings/type=building/part-00001-d0628531-2fbd-47aa-8608-f61ff708b14c-c000.zstd.parquet',\n",
       " 's3://overturemaps-us-west-2/release/2024-09-18.0/theme=buildings/type=building/part-00002-d0628531-2fbd-47aa-8608-f61ff708b14c-c000.zstd.parquet',\n",
       " 's3://overturemaps-us-west-2/release/2024-09-18.0/theme=buildings/type=building/part-00003-d0628531-2fbd-47aa-8608-f61ff708b14c-c000.zstd.parquet',\n",
       " 's3://overturemaps-us-west-2/release/2024-09-18.0/theme=buildings/type=building/part-00004-d0628531-2fbd-47aa-8608-f61ff708b14c-c000.zstd.parquet']"
      ]
     },
     "execution_count": 20,
     "metadata": {},
     "output_type": "execute_result"
    }
   ],
   "source": [
    "file_names[:5]"
   ]
  },
  {
   "cell_type": "markdown",
   "id": "824fb176-3ac3-4915-aaad-9093b890ab6b",
   "metadata": {},
   "source": [
    "Now we'll construct an `S3Store` to tell the GeoParquet reader how to access S3.\n",
    "\n",
    "This class presents the _same API_ as classes in [`obstore.store`](https://developmentseed.org/obstore/latest/api/store/aws/), but since we're using this with `geoarrow.rust.io`, we need to ensure we import the `S3Store` class from `geoarrow.rust.io.store`, not `obstore.store`."
   ]
  },
  {
   "cell_type": "code",
   "execution_count": 21,
   "id": "4bf3ad7b-96df-4953-8ced-bb63fd8df98b",
   "metadata": {},
   "outputs": [],
   "source": [
    "store = S3Store.from_url(\"s3://overturemaps-us-west-2\", config={\"SKIP_SIGNATURE\": \"True\", \"REGION\": \"us-west-2\"})"
   ]
  },
  {
   "cell_type": "markdown",
   "id": "b10efcde-c63b-4490-b7ec-620547f93138",
   "metadata": {},
   "source": [
    "Remove the `s3://overturemaps-us-west-2/` prefix from each path:"
   ]
  },
  {
   "cell_type": "code",
   "execution_count": 25,
   "id": "f2fe610c-c60e-4056-a353-48b8db4fb197",
   "metadata": {},
   "outputs": [],
   "source": [
    "paths = [name[28:] for name in file_names]"
   ]
  },
  {
   "cell_type": "code",
   "execution_count": 26,
   "id": "a3cf7fd5-0651-40dd-9eaf-6b7865884d05",
   "metadata": {},
   "outputs": [
    {
     "data": {
      "text/plain": [
       "['release/2024-09-18.0/theme=buildings/type=building/part-00000-d0628531-2fbd-47aa-8608-f61ff708b14c-c000.zstd.parquet',\n",
       " 'release/2024-09-18.0/theme=buildings/type=building/part-00001-d0628531-2fbd-47aa-8608-f61ff708b14c-c000.zstd.parquet',\n",
       " 'release/2024-09-18.0/theme=buildings/type=building/part-00002-d0628531-2fbd-47aa-8608-f61ff708b14c-c000.zstd.parquet',\n",
       " 'release/2024-09-18.0/theme=buildings/type=building/part-00003-d0628531-2fbd-47aa-8608-f61ff708b14c-c000.zstd.parquet',\n",
       " 'release/2024-09-18.0/theme=buildings/type=building/part-00004-d0628531-2fbd-47aa-8608-f61ff708b14c-c000.zstd.parquet']"
      ]
     },
     "execution_count": 26,
     "metadata": {},
     "output_type": "execute_result"
    }
   ],
   "source": [
    "paths[:5]"
   ]
  },
  {
   "cell_type": "markdown",
   "id": "e9ada743-6584-47f9-8b5f-7a13f3bfaf94",
   "metadata": {},
   "source": [
    "There are 208 different GeoParquet files in the directory:"
   ]
  },
  {
   "cell_type": "code",
   "execution_count": 28,
   "id": "0a7e6b20-f888-46fe-acaa-3728bbd34a62",
   "metadata": {},
   "outputs": [
    {
     "data": {
      "text/plain": [
       "208"
      ]
     },
     "execution_count": 28,
     "metadata": {},
     "output_type": "execute_result"
    }
   ],
   "source": [
    "len(paths)"
   ]
  },
  {
   "cell_type": "markdown",
   "id": "3e6128bb-f15d-4fa4-b92f-e671fbb026ff",
   "metadata": {},
   "source": [
    "Next, we'll create the `ParquetDataset` class. This represents many GeoParquet files of the same schema across a directory.\n",
    "\n",
    "When you create this class, it fetches the metadata from all 208 GeoParquet files, which takes a few seconds:"
   ]
  },
  {
   "cell_type": "code",
   "execution_count": 29,
   "id": "714a227e-e703-4b67-89c5-2f1422ccae02",
   "metadata": {},
   "outputs": [
    {
     "name": "stdout",
     "output_type": "stream",
     "text": [
      "CPU times: user 944 ms, sys: 792 ms, total: 1.74 s\n",
      "Wall time: 3.72 s\n"
     ]
    }
   ],
   "source": [
    "%%time\n",
    "dataset = ParquetDataset(paths, store)"
   ]
  },
  {
   "cell_type": "markdown",
   "id": "bab12077-a9d6-4eda-b86a-2f0420904574",
   "metadata": {},
   "source": [
    "Now we can see some information about the datasets, such as its row group information, number of rows, and schema:"
   ]
  },
  {
   "cell_type": "code",
   "execution_count": 31,
   "id": "bf72faef-c886-4885-bcd1-65e19971edd5",
   "metadata": {},
   "outputs": [
    {
     "data": {
      "text/plain": [
       "14885"
      ]
     },
     "execution_count": 31,
     "metadata": {},
     "output_type": "execute_result"
    }
   ],
   "source": [
    "dataset.num_row_groups"
   ]
  },
  {
   "cell_type": "code",
   "execution_count": 32,
   "id": "8e50c332-97be-4fbc-98b7-edf8ffed4d34",
   "metadata": {},
   "outputs": [
    {
     "data": {
      "text/plain": [
       "2375911049"
      ]
     },
     "execution_count": 32,
     "metadata": {},
     "output_type": "execute_result"
    }
   ],
   "source": [
    "dataset.num_rows"
   ]
  },
  {
   "cell_type": "code",
   "execution_count": 33,
   "id": "3c52ee4b-69d6-48f0-bb43-187569c4a540",
   "metadata": {},
   "outputs": [
    {
     "data": {
      "text/plain": [
       "arro3.core.Schema\n",
       "------------\n",
       "id: Utf8\n",
       "geometry: List(Field { name: \"polygons\", data_type: List(Field { name: \"rings\", data_type: List(Field { name: \"vertices\", data_type: FixedSizeList(Field { name: \"xy\", data_type: Float64, nullable: false, dict_id: 0, dict_is_ordered: false, metadata: {} }, 2), nullable: false, dict_id: 0, dict_is_ordered: false, metadata: {} }), nullable: false, dict_id: 0, dict_is_ordered: false, metadata: {} }), nullable: false, dict_id: 0, dict_is_ordered: false, metadata: {} })\n",
       "bbox: Struct([Field { name: \"xmin\", data_type: Float32, nullable: true, dict_id: 0, dict_is_ordered: false, metadata: {} }, Field { name: \"xmax\", data_type: Float32, nullable: true, dict_id: 0, dict_is_ordered: false, metadata: {} }, Field { name: \"ymin\", data_type: Float32, nullable: true, dict_id: 0, dict_is_ordered: false, metadata: {} }, Field { name: \"ymax\", data_type: Float32, nullable: true, dict_id: 0, dict_is_ordered: false, metadata: {} }])\n",
       "version: Int32\n",
       "sources: List(Field { name: \"element\", data_type: Struct([Field { name: \"property\", data_type: Utf8, nullable: true, dict_id: 0, dict_is_ordered: false, metadata: {} }, Field { name: \"dataset\", data_type: Utf8, nullable: true, dict_id: 0, dict_is_ordered: false, metadata: {} }, Field { name: \"record_id\", data_type: Utf8, nullable: true, dict_id: 0, dict_is_ordered: false, metadata: {} }, Field { name: \"update_time\", data_type: Utf8, nullable: true, dict_id: 0, dict_is_ordered: false, metadata: {} }, Field { name: \"confidence\", data_type: Float64, nullable: true, dict_id: 0, dict_is_ordered: false, metadata: {} }]), nullable: true, dict_id: 0, dict_is_ordered: false, metadata: {} })\n",
       "subtype: Utf8\n",
       "class: Utf8\n",
       "names: Struct([Field { name: \"primary\", data_type: Utf8, nullable: true, dict_id: 0, dict_is_ordered: false, metadata: {} }, Field { name: \"common\", data_type: Map(Field { name: \"key_value\", data_type: Struct([Field { name: \"key\", data_type: Utf8, nullable: false, dict_id: 0, dict_is_ordered: false, metadata: {} }, Field { name: \"value\", data_type: Utf8, nullable: true, dict_id: 0, dict_is_ordered: false, metadata: {} }]), nullable: false, dict_id: 0, dict_is_ordered: false, metadata: {} }, false), nullable: true, dict_id: 0, dict_is_ordered: false, metadata: {} }, Field { name: \"rules\", data_type: List(Field { name: \"element\", data_type: Struct([Field { name: \"variant\", data_type: Utf8, nullable: true, dict_id: 0, dict_is_ordered: false, metadata: {} }, Field { name: \"language\", data_type: Utf8, nullable: true, dict_id: 0, dict_is_ordered: false, metadata: {} }, Field { name: \"value\", data_type: Utf8, nullable: true, dict_id: 0, dict_is_ordered: false, metadata: {} }, Field { name: \"between\", data_type: List(Field { name: \"element\", data_type: Float64, nullable: true, dict_id: 0, dict_is_ordered: false, metadata: {} }), nullable: true, dict_id: 0, dict_is_ordered: false, metadata: {} }, Field { name: \"side\", data_type: Utf8, nullable: true, dict_id: 0, dict_is_ordered: false, metadata: {} }]), nullable: true, dict_id: 0, dict_is_ordered: false, metadata: {} }), nullable: true, dict_id: 0, dict_is_ordered: false, metadata: {} }])\n",
       "level: Int32\n",
       "has_parts: Boolean\n",
       "height: Float64\n",
       "is_underground: Boolean\n",
       "num_floors: Int32\n",
       "num_floors_underground: Int32\n",
       "min_height: Float64\n",
       "min_floor: Int32\n",
       "facade_color: Utf8\n",
       "facade_material: Utf8\n",
       "roof_material: Utf8\n",
       "roof_shape: Utf8\n",
       "roof_direction: Float64\n",
       "roof_orientation: Utf8\n",
       "roof_color: Utf8\n",
       "roof_height: Float64"
      ]
     },
     "execution_count": 33,
     "metadata": {},
     "output_type": "execute_result"
    }
   ],
   "source": [
    "dataset.schema_arrow"
   ]
  },
  {
   "cell_type": "markdown",
   "id": "75182e36-8e30-42ca-80b2-d10a207ea64d",
   "metadata": {},
   "source": [
    "Now we can fetch data from a specific bounding box. Note that the bounding box needs to have the same coordinate system as the data"
   ]
  },
  {
   "cell_type": "code",
   "execution_count": 36,
   "id": "a8c47d51-31bb-49ef-a61c-75cd2c47997c",
   "metadata": {},
   "outputs": [
    {
     "name": "stdout",
     "output_type": "stream",
     "text": [
      "CPU times: user 541 ms, sys: 740 ms, total: 1.28 s\n",
      "Wall time: 12.7 s\n"
     ]
    }
   ],
   "source": [
    "%%time\n",
    "nyc_buildings = dataset.read(bbox=(-74.021242, 40.697751, -73.947232, 40.790611))"
   ]
  },
  {
   "cell_type": "code",
   "execution_count": 37,
   "id": "f5363aa9-5320-4ac1-aa9d-9f339ee1b2a1",
   "metadata": {},
   "outputs": [
    {
     "data": {
      "text/plain": [
       "47650"
      ]
     },
     "execution_count": 37,
     "metadata": {},
     "output_type": "execute_result"
    }
   ],
   "source": [
    "len(nyc_buildings)"
   ]
  },
  {
   "cell_type": "code",
   "execution_count": 38,
   "id": "c3238072-b98b-43d5-a6ef-700b08d83f6a",
   "metadata": {},
   "outputs": [
    {
     "name": "stderr",
     "output_type": "stream",
     "text": [
      "/Users/kyle/Library/Caches/uv/archive-v0/AmyN-6PWaSEhdrWl-TudB/lib/python3.11/site-packages/lonboard/_geoarrow/ops/reproject.py:33: UserWarning: No CRS exists on data. If no data is shown on the map, double check that your CRS is WGS84.\n",
      "  warn(\n"
     ]
    },
    {
     "data": {
      "application/vnd.jupyter.widget-view+json": {
       "model_id": "e37fa7c3fa234219b986ae76d00336b8",
       "version_major": 2,
       "version_minor": 1
      },
      "text/plain": [
       "Map(basemap_style=<CartoBasemap.DarkMatter: 'https://basemaps.cartocdn.com/gl/dark-matter-gl-style/style.json'…"
      ]
     },
     "execution_count": 38,
     "metadata": {},
     "output_type": "execute_result"
    }
   ],
   "source": [
    "lonboard.viz(nyc_buildings)"
   ]
  },
  {
   "cell_type": "code",
   "execution_count": null,
   "id": "3a560f5b-9f70-4fcc-81c1-0259f763c096",
   "metadata": {},
   "outputs": [],
   "source": []
  }
 ],
 "metadata": {
  "kernelspec": {
   "display_name": "Python 3 (ipykernel)",
   "language": "python",
   "name": "python3"
  },
  "language_info": {
   "codemirror_mode": {
    "name": "ipython",
    "version": 3
   },
   "file_extension": ".py",
   "mimetype": "text/x-python",
   "name": "python",
   "nbconvert_exporter": "python",
   "pygments_lexer": "ipython3",
   "version": "3.11.4"
  }
 },
 "nbformat": 4,
 "nbformat_minor": 5
}
